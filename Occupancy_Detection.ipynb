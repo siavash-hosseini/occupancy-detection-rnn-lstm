{
  "nbformat": 4,
  "nbformat_minor": 0,
  "metadata": {
    "colab": {
      "provenance": []
    },
    "kernelspec": {
      "name": "python3",
      "display_name": "Python 3"
    },
    "language_info": {
      "name": "python"
    },
    "accelerator": "GPU"
  },
  "cells": [
    {
      "cell_type": "code",
      "execution_count": null,
      "metadata": {
        "colab": {
          "base_uri": "https://localhost:8080/"
        },
        "id": "6nkVPZYfYWHX",
        "outputId": "94b71048-e534-49a4-d1a6-af19ce7569b5"
      },
      "outputs": [
        {
          "output_type": "stream",
          "name": "stdout",
          "text": [
            "--2022-03-22 22:57:58--  https://archive.ics.uci.edu/ml/machine-learning-databases/00357/occupancy_data.zip\n",
            "Resolving archive.ics.uci.edu (archive.ics.uci.edu)... 128.195.10.252\n",
            "Connecting to archive.ics.uci.edu (archive.ics.uci.edu)|128.195.10.252|:443... connected.\n",
            "HTTP request sent, awaiting response... 200 OK\n",
            "Length: 335713 (328K) [application/x-httpd-php]\n",
            "Saving to: ‘occupancy_data.zip.4’\n",
            "\n",
            "occupancy_data.zip. 100%[===================>] 327.84K   445KB/s    in 0.7s    \n",
            "\n",
            "2022-03-22 22:58:00 (445 KB/s) - ‘occupancy_data.zip.4’ saved [335713/335713]\n",
            "\n"
          ]
        }
      ],
      "source": [
        "!wget https://archive.ics.uci.edu/ml/machine-learning-databases/00357/occupancy_data.zip"
      ]
    },
    {
      "cell_type": "code",
      "source": [
        "!unzip occupancy_data.zip"
      ],
      "metadata": {
        "colab": {
          "base_uri": "https://localhost:8080/"
        },
        "id": "62wIYFidimOZ",
        "outputId": "496dff06-deff-4a69-b38a-3d1dcfa1880b"
      },
      "execution_count": null,
      "outputs": [
        {
          "output_type": "stream",
          "name": "stdout",
          "text": [
            "Archive:  occupancy_data.zip\n",
            "replace datatest.txt? [y]es, [n]o, [A]ll, [N]one, [r]ename: "
          ]
        }
      ]
    },
    {
      "cell_type": "code",
      "source": [
        "import pandas as pd\n",
        "import numpy as np\n",
        "import matplotlib.pyplot as plt\n",
        "\n",
        "import tensorflow as tf\n",
        "from tensorflow.keras.models import Sequential\n",
        "from tensorflow.keras.layers import SimpleRNN, LSTM, Dense, Input, Bidirectional\n",
        "from tensorflow.keras.preprocessing.sequence import TimeseriesGenerator"
      ],
      "metadata": {
        "id": "1Q0wGS25YcRe"
      },
      "execution_count": null,
      "outputs": []
    },
    {
      "cell_type": "code",
      "source": [
        "train_df = pd.read_csv('datatraining.txt')"
      ],
      "metadata": {
        "id": "ODKAekPVYrJ0"
      },
      "execution_count": null,
      "outputs": []
    },
    {
      "cell_type": "code",
      "source": [
        "train_df.head(10)"
      ],
      "metadata": {
        "colab": {
          "base_uri": "https://localhost:8080/",
          "height": 363
        },
        "id": "svdQ9cIFi9No",
        "outputId": "421f41f7-b700-4e8f-e9ff-5f340a578c94"
      },
      "execution_count": null,
      "outputs": [
        {
          "output_type": "execute_result",
          "data": {
            "text/plain": [
              "                   date  Temperature  Humidity  Light         CO2  \\\n",
              "1   2015-02-04 17:51:00       23.180   27.2720  426.0  721.250000   \n",
              "2   2015-02-04 17:51:59       23.150   27.2675  429.5  714.000000   \n",
              "3   2015-02-04 17:53:00       23.150   27.2450  426.0  713.500000   \n",
              "4   2015-02-04 17:54:00       23.150   27.2000  426.0  708.250000   \n",
              "5   2015-02-04 17:55:00       23.100   27.2000  426.0  704.500000   \n",
              "6   2015-02-04 17:55:59       23.100   27.2000  419.0  701.000000   \n",
              "7   2015-02-04 17:57:00       23.100   27.2000  419.0  701.666667   \n",
              "8   2015-02-04 17:57:59       23.100   27.2000  419.0  699.000000   \n",
              "9   2015-02-04 17:58:59       23.100   27.2000  419.0  689.333333   \n",
              "10  2015-02-04 18:00:00       23.075   27.1750  419.0  688.000000   \n",
              "\n",
              "    HumidityRatio  Occupancy  \n",
              "1        0.004793          1  \n",
              "2        0.004783          1  \n",
              "3        0.004779          1  \n",
              "4        0.004772          1  \n",
              "5        0.004757          1  \n",
              "6        0.004757          1  \n",
              "7        0.004757          1  \n",
              "8        0.004757          1  \n",
              "9        0.004757          1  \n",
              "10       0.004745          1  "
            ],
            "text/html": [
              "\n",
              "  <div id=\"df-573c3d6f-5174-4862-b287-2187d31ffc40\">\n",
              "    <div class=\"colab-df-container\">\n",
              "      <div>\n",
              "<style scoped>\n",
              "    .dataframe tbody tr th:only-of-type {\n",
              "        vertical-align: middle;\n",
              "    }\n",
              "\n",
              "    .dataframe tbody tr th {\n",
              "        vertical-align: top;\n",
              "    }\n",
              "\n",
              "    .dataframe thead th {\n",
              "        text-align: right;\n",
              "    }\n",
              "</style>\n",
              "<table border=\"1\" class=\"dataframe\">\n",
              "  <thead>\n",
              "    <tr style=\"text-align: right;\">\n",
              "      <th></th>\n",
              "      <th>date</th>\n",
              "      <th>Temperature</th>\n",
              "      <th>Humidity</th>\n",
              "      <th>Light</th>\n",
              "      <th>CO2</th>\n",
              "      <th>HumidityRatio</th>\n",
              "      <th>Occupancy</th>\n",
              "    </tr>\n",
              "  </thead>\n",
              "  <tbody>\n",
              "    <tr>\n",
              "      <th>1</th>\n",
              "      <td>2015-02-04 17:51:00</td>\n",
              "      <td>23.180</td>\n",
              "      <td>27.2720</td>\n",
              "      <td>426.0</td>\n",
              "      <td>721.250000</td>\n",
              "      <td>0.004793</td>\n",
              "      <td>1</td>\n",
              "    </tr>\n",
              "    <tr>\n",
              "      <th>2</th>\n",
              "      <td>2015-02-04 17:51:59</td>\n",
              "      <td>23.150</td>\n",
              "      <td>27.2675</td>\n",
              "      <td>429.5</td>\n",
              "      <td>714.000000</td>\n",
              "      <td>0.004783</td>\n",
              "      <td>1</td>\n",
              "    </tr>\n",
              "    <tr>\n",
              "      <th>3</th>\n",
              "      <td>2015-02-04 17:53:00</td>\n",
              "      <td>23.150</td>\n",
              "      <td>27.2450</td>\n",
              "      <td>426.0</td>\n",
              "      <td>713.500000</td>\n",
              "      <td>0.004779</td>\n",
              "      <td>1</td>\n",
              "    </tr>\n",
              "    <tr>\n",
              "      <th>4</th>\n",
              "      <td>2015-02-04 17:54:00</td>\n",
              "      <td>23.150</td>\n",
              "      <td>27.2000</td>\n",
              "      <td>426.0</td>\n",
              "      <td>708.250000</td>\n",
              "      <td>0.004772</td>\n",
              "      <td>1</td>\n",
              "    </tr>\n",
              "    <tr>\n",
              "      <th>5</th>\n",
              "      <td>2015-02-04 17:55:00</td>\n",
              "      <td>23.100</td>\n",
              "      <td>27.2000</td>\n",
              "      <td>426.0</td>\n",
              "      <td>704.500000</td>\n",
              "      <td>0.004757</td>\n",
              "      <td>1</td>\n",
              "    </tr>\n",
              "    <tr>\n",
              "      <th>6</th>\n",
              "      <td>2015-02-04 17:55:59</td>\n",
              "      <td>23.100</td>\n",
              "      <td>27.2000</td>\n",
              "      <td>419.0</td>\n",
              "      <td>701.000000</td>\n",
              "      <td>0.004757</td>\n",
              "      <td>1</td>\n",
              "    </tr>\n",
              "    <tr>\n",
              "      <th>7</th>\n",
              "      <td>2015-02-04 17:57:00</td>\n",
              "      <td>23.100</td>\n",
              "      <td>27.2000</td>\n",
              "      <td>419.0</td>\n",
              "      <td>701.666667</td>\n",
              "      <td>0.004757</td>\n",
              "      <td>1</td>\n",
              "    </tr>\n",
              "    <tr>\n",
              "      <th>8</th>\n",
              "      <td>2015-02-04 17:57:59</td>\n",
              "      <td>23.100</td>\n",
              "      <td>27.2000</td>\n",
              "      <td>419.0</td>\n",
              "      <td>699.000000</td>\n",
              "      <td>0.004757</td>\n",
              "      <td>1</td>\n",
              "    </tr>\n",
              "    <tr>\n",
              "      <th>9</th>\n",
              "      <td>2015-02-04 17:58:59</td>\n",
              "      <td>23.100</td>\n",
              "      <td>27.2000</td>\n",
              "      <td>419.0</td>\n",
              "      <td>689.333333</td>\n",
              "      <td>0.004757</td>\n",
              "      <td>1</td>\n",
              "    </tr>\n",
              "    <tr>\n",
              "      <th>10</th>\n",
              "      <td>2015-02-04 18:00:00</td>\n",
              "      <td>23.075</td>\n",
              "      <td>27.1750</td>\n",
              "      <td>419.0</td>\n",
              "      <td>688.000000</td>\n",
              "      <td>0.004745</td>\n",
              "      <td>1</td>\n",
              "    </tr>\n",
              "  </tbody>\n",
              "</table>\n",
              "</div>\n",
              "      <button class=\"colab-df-convert\" onclick=\"convertToInteractive('df-573c3d6f-5174-4862-b287-2187d31ffc40')\"\n",
              "              title=\"Convert this dataframe to an interactive table.\"\n",
              "              style=\"display:none;\">\n",
              "        \n",
              "  <svg xmlns=\"http://www.w3.org/2000/svg\" height=\"24px\"viewBox=\"0 0 24 24\"\n",
              "       width=\"24px\">\n",
              "    <path d=\"M0 0h24v24H0V0z\" fill=\"none\"/>\n",
              "    <path d=\"M18.56 5.44l.94 2.06.94-2.06 2.06-.94-2.06-.94-.94-2.06-.94 2.06-2.06.94zm-11 1L8.5 8.5l.94-2.06 2.06-.94-2.06-.94L8.5 2.5l-.94 2.06-2.06.94zm10 10l.94 2.06.94-2.06 2.06-.94-2.06-.94-.94-2.06-.94 2.06-2.06.94z\"/><path d=\"M17.41 7.96l-1.37-1.37c-.4-.4-.92-.59-1.43-.59-.52 0-1.04.2-1.43.59L10.3 9.45l-7.72 7.72c-.78.78-.78 2.05 0 2.83L4 21.41c.39.39.9.59 1.41.59.51 0 1.02-.2 1.41-.59l7.78-7.78 2.81-2.81c.8-.78.8-2.07 0-2.86zM5.41 20L4 18.59l7.72-7.72 1.47 1.35L5.41 20z\"/>\n",
              "  </svg>\n",
              "      </button>\n",
              "      \n",
              "  <style>\n",
              "    .colab-df-container {\n",
              "      display:flex;\n",
              "      flex-wrap:wrap;\n",
              "      gap: 12px;\n",
              "    }\n",
              "\n",
              "    .colab-df-convert {\n",
              "      background-color: #E8F0FE;\n",
              "      border: none;\n",
              "      border-radius: 50%;\n",
              "      cursor: pointer;\n",
              "      display: none;\n",
              "      fill: #1967D2;\n",
              "      height: 32px;\n",
              "      padding: 0 0 0 0;\n",
              "      width: 32px;\n",
              "    }\n",
              "\n",
              "    .colab-df-convert:hover {\n",
              "      background-color: #E2EBFA;\n",
              "      box-shadow: 0px 1px 2px rgba(60, 64, 67, 0.3), 0px 1px 3px 1px rgba(60, 64, 67, 0.15);\n",
              "      fill: #174EA6;\n",
              "    }\n",
              "\n",
              "    [theme=dark] .colab-df-convert {\n",
              "      background-color: #3B4455;\n",
              "      fill: #D2E3FC;\n",
              "    }\n",
              "\n",
              "    [theme=dark] .colab-df-convert:hover {\n",
              "      background-color: #434B5C;\n",
              "      box-shadow: 0px 1px 3px 1px rgba(0, 0, 0, 0.15);\n",
              "      filter: drop-shadow(0px 1px 2px rgba(0, 0, 0, 0.3));\n",
              "      fill: #FFFFFF;\n",
              "    }\n",
              "  </style>\n",
              "\n",
              "      <script>\n",
              "        const buttonEl =\n",
              "          document.querySelector('#df-573c3d6f-5174-4862-b287-2187d31ffc40 button.colab-df-convert');\n",
              "        buttonEl.style.display =\n",
              "          google.colab.kernel.accessAllowed ? 'block' : 'none';\n",
              "\n",
              "        async function convertToInteractive(key) {\n",
              "          const element = document.querySelector('#df-573c3d6f-5174-4862-b287-2187d31ffc40');\n",
              "          const dataTable =\n",
              "            await google.colab.kernel.invokeFunction('convertToInteractive',\n",
              "                                                     [key], {});\n",
              "          if (!dataTable) return;\n",
              "\n",
              "          const docLinkHtml = 'Like what you see? Visit the ' +\n",
              "            '<a target=\"_blank\" href=https://colab.research.google.com/notebooks/data_table.ipynb>data table notebook</a>'\n",
              "            + ' to learn more about interactive tables.';\n",
              "          element.innerHTML = '';\n",
              "          dataTable['output_type'] = 'display_data';\n",
              "          await google.colab.output.renderOutput(dataTable, element);\n",
              "          const docLink = document.createElement('div');\n",
              "          docLink.innerHTML = docLinkHtml;\n",
              "          element.appendChild(docLink);\n",
              "        }\n",
              "      </script>\n",
              "    </div>\n",
              "  </div>\n",
              "  "
            ]
          },
          "metadata": {},
          "execution_count": 10
        }
      ]
    },
    {
      "cell_type": "code",
      "source": [
        "test_df = pd.read_csv('datatest.txt')"
      ],
      "metadata": {
        "id": "F3Fy2zcBY1kP"
      },
      "execution_count": null,
      "outputs": []
    },
    {
      "cell_type": "code",
      "source": [
        "test_df.head(10)"
      ],
      "metadata": {
        "colab": {
          "base_uri": "https://localhost:8080/",
          "height": 363
        },
        "id": "CkvIZWEQi44X",
        "outputId": "85941289-f61f-4b55-f98d-6ceb72513c3c"
      },
      "execution_count": null,
      "outputs": [
        {
          "output_type": "execute_result",
          "data": {
            "text/plain": [
              "                    date  Temperature  Humidity       Light         CO2  \\\n",
              "140  2015-02-02 14:19:00      23.7000    26.272  585.200000  749.200000   \n",
              "141  2015-02-02 14:19:59      23.7180    26.290  578.400000  760.400000   \n",
              "142  2015-02-02 14:21:00      23.7300    26.230  572.666667  769.666667   \n",
              "143  2015-02-02 14:22:00      23.7225    26.125  493.750000  774.750000   \n",
              "144  2015-02-02 14:23:00      23.7540    26.200  488.600000  779.000000   \n",
              "145  2015-02-02 14:23:59      23.7600    26.260  568.666667  790.000000   \n",
              "146  2015-02-02 14:25:00      23.7300    26.290  536.333333  798.000000   \n",
              "147  2015-02-02 14:25:59      23.7540    26.290  509.000000  797.000000   \n",
              "148  2015-02-02 14:26:59      23.7540    26.350  476.000000  803.200000   \n",
              "149  2015-02-02 14:28:00      23.7360    26.390  510.000000  809.000000   \n",
              "\n",
              "     HumidityRatio  Occupancy  \n",
              "140       0.004764          1  \n",
              "141       0.004773          1  \n",
              "142       0.004765          1  \n",
              "143       0.004744          1  \n",
              "144       0.004767          1  \n",
              "145       0.004779          1  \n",
              "146       0.004776          1  \n",
              "147       0.004783          1  \n",
              "148       0.004794          1  \n",
              "149       0.004796          1  "
            ],
            "text/html": [
              "\n",
              "  <div id=\"df-3c771d61-df14-4ce0-85fc-78668cd83e90\">\n",
              "    <div class=\"colab-df-container\">\n",
              "      <div>\n",
              "<style scoped>\n",
              "    .dataframe tbody tr th:only-of-type {\n",
              "        vertical-align: middle;\n",
              "    }\n",
              "\n",
              "    .dataframe tbody tr th {\n",
              "        vertical-align: top;\n",
              "    }\n",
              "\n",
              "    .dataframe thead th {\n",
              "        text-align: right;\n",
              "    }\n",
              "</style>\n",
              "<table border=\"1\" class=\"dataframe\">\n",
              "  <thead>\n",
              "    <tr style=\"text-align: right;\">\n",
              "      <th></th>\n",
              "      <th>date</th>\n",
              "      <th>Temperature</th>\n",
              "      <th>Humidity</th>\n",
              "      <th>Light</th>\n",
              "      <th>CO2</th>\n",
              "      <th>HumidityRatio</th>\n",
              "      <th>Occupancy</th>\n",
              "    </tr>\n",
              "  </thead>\n",
              "  <tbody>\n",
              "    <tr>\n",
              "      <th>140</th>\n",
              "      <td>2015-02-02 14:19:00</td>\n",
              "      <td>23.7000</td>\n",
              "      <td>26.272</td>\n",
              "      <td>585.200000</td>\n",
              "      <td>749.200000</td>\n",
              "      <td>0.004764</td>\n",
              "      <td>1</td>\n",
              "    </tr>\n",
              "    <tr>\n",
              "      <th>141</th>\n",
              "      <td>2015-02-02 14:19:59</td>\n",
              "      <td>23.7180</td>\n",
              "      <td>26.290</td>\n",
              "      <td>578.400000</td>\n",
              "      <td>760.400000</td>\n",
              "      <td>0.004773</td>\n",
              "      <td>1</td>\n",
              "    </tr>\n",
              "    <tr>\n",
              "      <th>142</th>\n",
              "      <td>2015-02-02 14:21:00</td>\n",
              "      <td>23.7300</td>\n",
              "      <td>26.230</td>\n",
              "      <td>572.666667</td>\n",
              "      <td>769.666667</td>\n",
              "      <td>0.004765</td>\n",
              "      <td>1</td>\n",
              "    </tr>\n",
              "    <tr>\n",
              "      <th>143</th>\n",
              "      <td>2015-02-02 14:22:00</td>\n",
              "      <td>23.7225</td>\n",
              "      <td>26.125</td>\n",
              "      <td>493.750000</td>\n",
              "      <td>774.750000</td>\n",
              "      <td>0.004744</td>\n",
              "      <td>1</td>\n",
              "    </tr>\n",
              "    <tr>\n",
              "      <th>144</th>\n",
              "      <td>2015-02-02 14:23:00</td>\n",
              "      <td>23.7540</td>\n",
              "      <td>26.200</td>\n",
              "      <td>488.600000</td>\n",
              "      <td>779.000000</td>\n",
              "      <td>0.004767</td>\n",
              "      <td>1</td>\n",
              "    </tr>\n",
              "    <tr>\n",
              "      <th>145</th>\n",
              "      <td>2015-02-02 14:23:59</td>\n",
              "      <td>23.7600</td>\n",
              "      <td>26.260</td>\n",
              "      <td>568.666667</td>\n",
              "      <td>790.000000</td>\n",
              "      <td>0.004779</td>\n",
              "      <td>1</td>\n",
              "    </tr>\n",
              "    <tr>\n",
              "      <th>146</th>\n",
              "      <td>2015-02-02 14:25:00</td>\n",
              "      <td>23.7300</td>\n",
              "      <td>26.290</td>\n",
              "      <td>536.333333</td>\n",
              "      <td>798.000000</td>\n",
              "      <td>0.004776</td>\n",
              "      <td>1</td>\n",
              "    </tr>\n",
              "    <tr>\n",
              "      <th>147</th>\n",
              "      <td>2015-02-02 14:25:59</td>\n",
              "      <td>23.7540</td>\n",
              "      <td>26.290</td>\n",
              "      <td>509.000000</td>\n",
              "      <td>797.000000</td>\n",
              "      <td>0.004783</td>\n",
              "      <td>1</td>\n",
              "    </tr>\n",
              "    <tr>\n",
              "      <th>148</th>\n",
              "      <td>2015-02-02 14:26:59</td>\n",
              "      <td>23.7540</td>\n",
              "      <td>26.350</td>\n",
              "      <td>476.000000</td>\n",
              "      <td>803.200000</td>\n",
              "      <td>0.004794</td>\n",
              "      <td>1</td>\n",
              "    </tr>\n",
              "    <tr>\n",
              "      <th>149</th>\n",
              "      <td>2015-02-02 14:28:00</td>\n",
              "      <td>23.7360</td>\n",
              "      <td>26.390</td>\n",
              "      <td>510.000000</td>\n",
              "      <td>809.000000</td>\n",
              "      <td>0.004796</td>\n",
              "      <td>1</td>\n",
              "    </tr>\n",
              "  </tbody>\n",
              "</table>\n",
              "</div>\n",
              "      <button class=\"colab-df-convert\" onclick=\"convertToInteractive('df-3c771d61-df14-4ce0-85fc-78668cd83e90')\"\n",
              "              title=\"Convert this dataframe to an interactive table.\"\n",
              "              style=\"display:none;\">\n",
              "        \n",
              "  <svg xmlns=\"http://www.w3.org/2000/svg\" height=\"24px\"viewBox=\"0 0 24 24\"\n",
              "       width=\"24px\">\n",
              "    <path d=\"M0 0h24v24H0V0z\" fill=\"none\"/>\n",
              "    <path d=\"M18.56 5.44l.94 2.06.94-2.06 2.06-.94-2.06-.94-.94-2.06-.94 2.06-2.06.94zm-11 1L8.5 8.5l.94-2.06 2.06-.94-2.06-.94L8.5 2.5l-.94 2.06-2.06.94zm10 10l.94 2.06.94-2.06 2.06-.94-2.06-.94-.94-2.06-.94 2.06-2.06.94z\"/><path d=\"M17.41 7.96l-1.37-1.37c-.4-.4-.92-.59-1.43-.59-.52 0-1.04.2-1.43.59L10.3 9.45l-7.72 7.72c-.78.78-.78 2.05 0 2.83L4 21.41c.39.39.9.59 1.41.59.51 0 1.02-.2 1.41-.59l7.78-7.78 2.81-2.81c.8-.78.8-2.07 0-2.86zM5.41 20L4 18.59l7.72-7.72 1.47 1.35L5.41 20z\"/>\n",
              "  </svg>\n",
              "      </button>\n",
              "      \n",
              "  <style>\n",
              "    .colab-df-container {\n",
              "      display:flex;\n",
              "      flex-wrap:wrap;\n",
              "      gap: 12px;\n",
              "    }\n",
              "\n",
              "    .colab-df-convert {\n",
              "      background-color: #E8F0FE;\n",
              "      border: none;\n",
              "      border-radius: 50%;\n",
              "      cursor: pointer;\n",
              "      display: none;\n",
              "      fill: #1967D2;\n",
              "      height: 32px;\n",
              "      padding: 0 0 0 0;\n",
              "      width: 32px;\n",
              "    }\n",
              "\n",
              "    .colab-df-convert:hover {\n",
              "      background-color: #E2EBFA;\n",
              "      box-shadow: 0px 1px 2px rgba(60, 64, 67, 0.3), 0px 1px 3px 1px rgba(60, 64, 67, 0.15);\n",
              "      fill: #174EA6;\n",
              "    }\n",
              "\n",
              "    [theme=dark] .colab-df-convert {\n",
              "      background-color: #3B4455;\n",
              "      fill: #D2E3FC;\n",
              "    }\n",
              "\n",
              "    [theme=dark] .colab-df-convert:hover {\n",
              "      background-color: #434B5C;\n",
              "      box-shadow: 0px 1px 3px 1px rgba(0, 0, 0, 0.15);\n",
              "      filter: drop-shadow(0px 1px 2px rgba(0, 0, 0, 0.3));\n",
              "      fill: #FFFFFF;\n",
              "    }\n",
              "  </style>\n",
              "\n",
              "      <script>\n",
              "        const buttonEl =\n",
              "          document.querySelector('#df-3c771d61-df14-4ce0-85fc-78668cd83e90 button.colab-df-convert');\n",
              "        buttonEl.style.display =\n",
              "          google.colab.kernel.accessAllowed ? 'block' : 'none';\n",
              "\n",
              "        async function convertToInteractive(key) {\n",
              "          const element = document.querySelector('#df-3c771d61-df14-4ce0-85fc-78668cd83e90');\n",
              "          const dataTable =\n",
              "            await google.colab.kernel.invokeFunction('convertToInteractive',\n",
              "                                                     [key], {});\n",
              "          if (!dataTable) return;\n",
              "\n",
              "          const docLinkHtml = 'Like what you see? Visit the ' +\n",
              "            '<a target=\"_blank\" href=https://colab.research.google.com/notebooks/data_table.ipynb>data table notebook</a>'\n",
              "            + ' to learn more about interactive tables.';\n",
              "          element.innerHTML = '';\n",
              "          dataTable['output_type'] = 'display_data';\n",
              "          await google.colab.output.renderOutput(dataTable, element);\n",
              "          const docLink = document.createElement('div');\n",
              "          docLink.innerHTML = docLinkHtml;\n",
              "          element.appendChild(docLink);\n",
              "        }\n",
              "      </script>\n",
              "    </div>\n",
              "  </div>\n",
              "  "
            ]
          },
          "metadata": {},
          "execution_count": 12
        }
      ]
    },
    {
      "cell_type": "code",
      "source": [
        "input_features = ['Temperature', 'Humidity', 'Light', 'CO2', 'HumidityRatio']\n",
        "target_features = ['CO2', 'Light']\n",
        "n_steps, n_preds = 16, 4"
      ],
      "metadata": {
        "id": "e-zXv4y5Z2YB"
      },
      "execution_count": null,
      "outputs": []
    },
    {
      "cell_type": "code",
      "source": [
        "def generate_sequence(X, y, n_steps, n_preds):\n",
        "  assert len(X) == len(y)\n",
        "\n",
        "  X_seq = []\n",
        "  y_seq = []\n",
        "  i = n_steps\n",
        "\n",
        "  while i < len(X) - n_preds:\n",
        "    X_seq.append(X[i-n_steps: i])\n",
        "    y_seq.append(y[i: i+n_preds].reshape(-1))\n",
        "    i += 1\n",
        "\n",
        "  return np.array(X_seq), np.array(y_seq)"
      ],
      "metadata": {
        "id": "ZnzGquDiwlC5"
      },
      "execution_count": null,
      "outputs": []
    },
    {
      "cell_type": "code",
      "source": [
        "X_train, y_train = generate_sequence(train_df[input_features].to_numpy(), train_df[target_features].to_numpy(), n_steps, n_preds)\n",
        "X_test, y_test   = generate_sequence(test_df[input_features].to_numpy(),test_df[target_features].to_numpy(), n_steps, n_preds)"
      ],
      "metadata": {
        "id": "AZn9oLvOy1Nm"
      },
      "execution_count": null,
      "outputs": []
    },
    {
      "cell_type": "code",
      "source": [
        "input_shape = X_train.shape[1:]\n",
        "output_shape = y_train.shape[1]"
      ],
      "metadata": {
        "id": "F8weyXidaHwr"
      },
      "execution_count": null,
      "outputs": []
    },
    {
      "cell_type": "code",
      "source": [
        "normalizer = tf.keras.layers.experimental.preprocessing.Normalization()\n",
        "normalizer.adapt(X_train)"
      ],
      "metadata": {
        "id": "tzK7EctFaYEN"
      },
      "execution_count": null,
      "outputs": []
    },
    {
      "cell_type": "code",
      "source": [
        "reduce_lr = tf.keras.callbacks.ReduceLROnPlateau(patience=5, factor=0.2, min_lr=1e-6)\n",
        "es = tf.keras.callbacks.EarlyStopping(patience=15)\n",
        "\n",
        "n_epochs = 100"
      ],
      "metadata": {
        "id": "_vq69YNSvpU7"
      },
      "execution_count": null,
      "outputs": []
    },
    {
      "cell_type": "code",
      "source": [
        "#### simple 1 layer\n",
        "model1 = Sequential()\n",
        "model1.add(Input(input_shape))\n",
        "model1.add(normalizer)\n",
        "model1.add(SimpleRNN(32, activation='tanh', return_sequences = False))\n",
        "model1.add(Dense(32, activation='relu'))\n",
        "model1.add(Dense(output_shape, activation='linear'))\n",
        "\n",
        "optim=tf.keras.optimizers.Adam(0.001)\n",
        "model1.compile(optimizer=optim, loss='mse', metrics=['mae'])\n",
        "model1.summary()"
      ],
      "metadata": {
        "colab": {
          "base_uri": "https://localhost:8080/"
        },
        "id": "IljiUidKn4Yp",
        "outputId": "f8ed3f59-8ff3-40fe-ee9d-3a6aa0cc1780"
      },
      "execution_count": null,
      "outputs": [
        {
          "output_type": "stream",
          "name": "stdout",
          "text": [
            "Model: \"sequential\"\n",
            "_________________________________________________________________\n",
            " Layer (type)                Output Shape              Param #   \n",
            "=================================================================\n",
            " normalization (Normalizatio  (None, 16, 5)            11        \n",
            " n)                                                              \n",
            "                                                                 \n",
            " simple_rnn (SimpleRNN)      (None, 32)                1216      \n",
            "                                                                 \n",
            " dense (Dense)               (None, 32)                1056      \n",
            "                                                                 \n",
            " dense_1 (Dense)             (None, 8)                 264       \n",
            "                                                                 \n",
            "=================================================================\n",
            "Total params: 2,547\n",
            "Trainable params: 2,536\n",
            "Non-trainable params: 11\n",
            "_________________________________________________________________\n"
          ]
        }
      ]
    },
    {
      "cell_type": "code",
      "source": [
        "history = model1.fit(X_train, y_train, validation_split=0.1, epochs=n_epochs, verbose=1, callbacks=[reduce_lr, es])"
      ],
      "metadata": {
        "colab": {
          "base_uri": "https://localhost:8080/"
        },
        "id": "1Rvn5Fa2tUnr",
        "outputId": "554a1adb-0f7d-40dc-fa1c-ab89ef586dd4"
      },
      "execution_count": null,
      "outputs": [
        {
          "output_type": "stream",
          "name": "stdout",
          "text": [
            "Epoch 1/100\n",
            "229/229 [==============================] - 6s 21ms/step - loss: 259873.9219 - mae: 364.3157 - val_loss: 134874.7812 - val_mae: 268.7358 - lr: 0.0010\n",
            "Epoch 2/100\n",
            "229/229 [==============================] - 4s 19ms/step - loss: 205733.5000 - mae: 322.7253 - val_loss: 86381.4609 - val_mae: 226.0735 - lr: 0.0010\n",
            "Epoch 3/100\n",
            "229/229 [==============================] - 4s 19ms/step - loss: 135725.0312 - mae: 248.8304 - val_loss: 45116.7188 - val_mae: 164.2506 - lr: 0.0010\n",
            "Epoch 4/100\n",
            "229/229 [==============================] - 4s 19ms/step - loss: 85660.1719 - mae: 175.5460 - val_loss: 23436.3418 - val_mae: 107.3585 - lr: 0.0010\n",
            "Epoch 5/100\n",
            "229/229 [==============================] - 4s 19ms/step - loss: 59800.6055 - mae: 137.6366 - val_loss: 15646.5029 - val_mae: 75.0132 - lr: 0.0010\n",
            "Epoch 6/100\n",
            "229/229 [==============================] - 4s 19ms/step - loss: 47113.3516 - mae: 121.5202 - val_loss: 16520.6660 - val_mae: 90.1224 - lr: 0.0010\n",
            "Epoch 7/100\n",
            "229/229 [==============================] - 4s 19ms/step - loss: 29762.4629 - mae: 85.8632 - val_loss: 25585.0078 - val_mae: 98.6650 - lr: 0.0010\n",
            "Epoch 8/100\n",
            "229/229 [==============================] - 4s 19ms/step - loss: 21531.5078 - mae: 73.3050 - val_loss: 23386.1523 - val_mae: 97.2717 - lr: 0.0010\n",
            "Epoch 9/100\n",
            "229/229 [==============================] - 4s 19ms/step - loss: 16771.7754 - mae: 64.7426 - val_loss: 18372.7832 - val_mae: 83.4761 - lr: 0.0010\n",
            "Epoch 10/100\n",
            "229/229 [==============================] - 4s 19ms/step - loss: 13611.2129 - mae: 61.1144 - val_loss: 15915.2422 - val_mae: 80.0656 - lr: 0.0010\n",
            "Epoch 11/100\n",
            "229/229 [==============================] - 4s 19ms/step - loss: 12229.2920 - mae: 59.4021 - val_loss: 15582.9658 - val_mae: 79.6314 - lr: 2.0000e-04\n",
            "Epoch 12/100\n",
            "229/229 [==============================] - 4s 19ms/step - loss: 11832.9121 - mae: 58.7821 - val_loss: 15461.8613 - val_mae: 80.2742 - lr: 2.0000e-04\n",
            "Epoch 13/100\n",
            "229/229 [==============================] - 4s 19ms/step - loss: 11462.8643 - mae: 57.9160 - val_loss: 15548.2422 - val_mae: 82.9735 - lr: 2.0000e-04\n",
            "Epoch 14/100\n",
            "229/229 [==============================] - 4s 19ms/step - loss: 10976.7891 - mae: 56.9307 - val_loss: 14869.4014 - val_mae: 78.4005 - lr: 2.0000e-04\n",
            "Epoch 15/100\n",
            "229/229 [==============================] - 4s 19ms/step - loss: 10642.5059 - mae: 55.7890 - val_loss: 14583.8359 - val_mae: 78.0748 - lr: 2.0000e-04\n",
            "Epoch 16/100\n",
            "229/229 [==============================] - 4s 19ms/step - loss: 10412.8799 - mae: 55.7813 - val_loss: 15049.4639 - val_mae: 78.9052 - lr: 2.0000e-04\n",
            "Epoch 17/100\n",
            "229/229 [==============================] - 4s 19ms/step - loss: 10105.6582 - mae: 55.2147 - val_loss: 14158.4980 - val_mae: 73.2927 - lr: 2.0000e-04\n",
            "Epoch 18/100\n",
            "229/229 [==============================] - 4s 19ms/step - loss: 9855.9463 - mae: 54.7084 - val_loss: 14350.7256 - val_mae: 74.8432 - lr: 2.0000e-04\n",
            "Epoch 19/100\n",
            "229/229 [==============================] - 4s 19ms/step - loss: 9647.0479 - mae: 54.4055 - val_loss: 14451.2842 - val_mae: 75.7993 - lr: 2.0000e-04\n",
            "Epoch 20/100\n",
            "229/229 [==============================] - 4s 19ms/step - loss: 9558.2510 - mae: 54.5796 - val_loss: 14444.3193 - val_mae: 76.3678 - lr: 2.0000e-04\n",
            "Epoch 21/100\n",
            "229/229 [==============================] - 4s 19ms/step - loss: 9210.1924 - mae: 53.7070 - val_loss: 13805.9658 - val_mae: 74.1344 - lr: 2.0000e-04\n",
            "Epoch 22/100\n",
            "229/229 [==============================] - 4s 19ms/step - loss: 9046.7998 - mae: 53.4845 - val_loss: 13854.4873 - val_mae: 75.0981 - lr: 2.0000e-04\n",
            "Epoch 23/100\n",
            "229/229 [==============================] - 4s 19ms/step - loss: 8872.8154 - mae: 53.1966 - val_loss: 13813.6035 - val_mae: 75.3089 - lr: 2.0000e-04\n",
            "Epoch 24/100\n",
            "229/229 [==============================] - 4s 19ms/step - loss: 8711.3389 - mae: 52.8756 - val_loss: 13763.5547 - val_mae: 75.8399 - lr: 2.0000e-04\n",
            "Epoch 25/100\n",
            "229/229 [==============================] - 4s 19ms/step - loss: 8560.2969 - mae: 52.5700 - val_loss: 13664.8330 - val_mae: 75.7123 - lr: 2.0000e-04\n",
            "Epoch 26/100\n",
            "229/229 [==============================] - 4s 19ms/step - loss: 8416.0439 - mae: 52.2418 - val_loss: 13560.7432 - val_mae: 76.2249 - lr: 2.0000e-04\n",
            "Epoch 27/100\n",
            "229/229 [==============================] - 4s 19ms/step - loss: 8283.9951 - mae: 51.9498 - val_loss: 13487.9580 - val_mae: 76.6833 - lr: 2.0000e-04\n",
            "Epoch 28/100\n",
            "229/229 [==============================] - 4s 19ms/step - loss: 8145.8828 - mae: 51.4126 - val_loss: 13443.0723 - val_mae: 77.6598 - lr: 2.0000e-04\n",
            "Epoch 29/100\n",
            "229/229 [==============================] - 4s 19ms/step - loss: 8020.2266 - mae: 51.1835 - val_loss: 13342.3838 - val_mae: 77.7565 - lr: 2.0000e-04\n",
            "Epoch 30/100\n",
            "229/229 [==============================] - 4s 19ms/step - loss: 7945.3511 - mae: 51.1866 - val_loss: 13039.5938 - val_mae: 77.3655 - lr: 2.0000e-04\n",
            "Epoch 31/100\n",
            "229/229 [==============================] - 4s 19ms/step - loss: 7774.6763 - mae: 50.4318 - val_loss: 13144.4072 - val_mae: 77.0952 - lr: 2.0000e-04\n",
            "Epoch 32/100\n",
            "229/229 [==============================] - 4s 20ms/step - loss: 7653.6885 - mae: 49.7237 - val_loss: 13182.8779 - val_mae: 77.8208 - lr: 2.0000e-04\n",
            "Epoch 33/100\n",
            "229/229 [==============================] - 4s 20ms/step - loss: 7590.2891 - mae: 49.7490 - val_loss: 12771.8799 - val_mae: 77.8099 - lr: 2.0000e-04\n",
            "Epoch 34/100\n",
            "229/229 [==============================] - 4s 19ms/step - loss: 7846.9507 - mae: 50.4047 - val_loss: 12771.5859 - val_mae: 79.3955 - lr: 2.0000e-04\n",
            "Epoch 35/100\n",
            "229/229 [==============================] - 4s 20ms/step - loss: 7534.0562 - mae: 49.5310 - val_loss: 12410.6055 - val_mae: 76.5056 - lr: 2.0000e-04\n",
            "Epoch 36/100\n",
            "229/229 [==============================] - 4s 19ms/step - loss: 7427.0776 - mae: 48.5752 - val_loss: 11556.8848 - val_mae: 73.9636 - lr: 2.0000e-04\n",
            "Epoch 37/100\n",
            "229/229 [==============================] - 4s 19ms/step - loss: 7289.1709 - mae: 48.1985 - val_loss: 11315.2197 - val_mae: 72.6228 - lr: 2.0000e-04\n",
            "Epoch 38/100\n",
            "229/229 [==============================] - 4s 19ms/step - loss: 7211.0562 - mae: 47.7025 - val_loss: 11351.2812 - val_mae: 73.8716 - lr: 2.0000e-04\n",
            "Epoch 39/100\n",
            "229/229 [==============================] - 4s 19ms/step - loss: 7208.7412 - mae: 48.2689 - val_loss: 11503.8682 - val_mae: 73.4970 - lr: 2.0000e-04\n",
            "Epoch 40/100\n",
            "229/229 [==============================] - 4s 19ms/step - loss: 8015.8237 - mae: 50.0054 - val_loss: 11886.3164 - val_mae: 75.4367 - lr: 2.0000e-04\n",
            "Epoch 41/100\n",
            "229/229 [==============================] - 4s 19ms/step - loss: 7718.0200 - mae: 49.6059 - val_loss: 12784.4980 - val_mae: 74.7458 - lr: 2.0000e-04\n",
            "Epoch 42/100\n",
            "229/229 [==============================] - 4s 19ms/step - loss: 7439.3486 - mae: 49.5599 - val_loss: 11287.5889 - val_mae: 71.2739 - lr: 2.0000e-04\n",
            "Epoch 43/100\n",
            "229/229 [==============================] - 4s 19ms/step - loss: 7817.2368 - mae: 50.2680 - val_loss: 12296.4023 - val_mae: 74.5518 - lr: 2.0000e-04\n",
            "Epoch 44/100\n",
            "229/229 [==============================] - 4s 19ms/step - loss: 7387.2104 - mae: 49.2280 - val_loss: 14493.2188 - val_mae: 80.2089 - lr: 2.0000e-04\n",
            "Epoch 45/100\n",
            "229/229 [==============================] - 4s 19ms/step - loss: 7727.6992 - mae: 50.4061 - val_loss: 13069.2861 - val_mae: 77.0194 - lr: 2.0000e-04\n",
            "Epoch 46/100\n",
            "229/229 [==============================] - 4s 19ms/step - loss: 7221.1641 - mae: 49.3105 - val_loss: 11129.8350 - val_mae: 73.0507 - lr: 2.0000e-04\n",
            "Epoch 47/100\n",
            "229/229 [==============================] - 4s 19ms/step - loss: 6899.3804 - mae: 47.5023 - val_loss: 10413.8438 - val_mae: 70.2828 - lr: 2.0000e-04\n",
            "Epoch 48/100\n",
            "229/229 [==============================] - 4s 19ms/step - loss: 6650.1997 - mae: 46.4872 - val_loss: 10541.0713 - val_mae: 72.0589 - lr: 2.0000e-04\n",
            "Epoch 49/100\n",
            "229/229 [==============================] - 4s 19ms/step - loss: 7038.1670 - mae: 46.9661 - val_loss: 10914.5166 - val_mae: 71.6610 - lr: 2.0000e-04\n",
            "Epoch 50/100\n",
            "229/229 [==============================] - 4s 19ms/step - loss: 6712.1030 - mae: 46.6514 - val_loss: 9737.0420 - val_mae: 68.4990 - lr: 2.0000e-04\n",
            "Epoch 51/100\n",
            "229/229 [==============================] - 4s 19ms/step - loss: 6448.8652 - mae: 46.3655 - val_loss: 9098.9307 - val_mae: 67.0831 - lr: 2.0000e-04\n",
            "Epoch 52/100\n",
            "229/229 [==============================] - 4s 19ms/step - loss: 6308.8433 - mae: 45.2043 - val_loss: 9589.2617 - val_mae: 70.0474 - lr: 2.0000e-04\n",
            "Epoch 53/100\n",
            "229/229 [==============================] - 4s 19ms/step - loss: 6305.1758 - mae: 45.5133 - val_loss: 8518.6484 - val_mae: 64.2276 - lr: 2.0000e-04\n",
            "Epoch 54/100\n",
            "229/229 [==============================] - 4s 19ms/step - loss: 6048.4185 - mae: 43.7821 - val_loss: 9916.5840 - val_mae: 67.5015 - lr: 2.0000e-04\n",
            "Epoch 55/100\n",
            "229/229 [==============================] - 4s 20ms/step - loss: 5930.0371 - mae: 42.8733 - val_loss: 8641.0205 - val_mae: 65.2376 - lr: 2.0000e-04\n",
            "Epoch 56/100\n",
            "229/229 [==============================] - 4s 19ms/step - loss: 6220.9565 - mae: 44.9727 - val_loss: 8693.3564 - val_mae: 65.9244 - lr: 2.0000e-04\n",
            "Epoch 57/100\n",
            "229/229 [==============================] - 4s 19ms/step - loss: 5912.6367 - mae: 42.5125 - val_loss: 8926.1504 - val_mae: 67.9508 - lr: 2.0000e-04\n",
            "Epoch 58/100\n",
            "229/229 [==============================] - 4s 20ms/step - loss: 5785.2681 - mae: 41.6562 - val_loss: 8872.3926 - val_mae: 68.2211 - lr: 2.0000e-04\n",
            "Epoch 59/100\n",
            "229/229 [==============================] - 4s 20ms/step - loss: 5721.6265 - mae: 41.2824 - val_loss: 8655.8438 - val_mae: 67.4702 - lr: 4.0000e-05\n",
            "Epoch 60/100\n",
            "229/229 [==============================] - 5s 20ms/step - loss: 5728.8716 - mae: 41.5193 - val_loss: 8426.0957 - val_mae: 66.6927 - lr: 4.0000e-05\n",
            "Epoch 61/100\n",
            "229/229 [==============================] - 4s 19ms/step - loss: 5839.9834 - mae: 42.5492 - val_loss: 8308.7051 - val_mae: 65.8967 - lr: 4.0000e-05\n",
            "Epoch 62/100\n",
            "229/229 [==============================] - 4s 20ms/step - loss: 5767.9907 - mae: 42.0655 - val_loss: 8357.7363 - val_mae: 66.3385 - lr: 4.0000e-05\n",
            "Epoch 63/100\n",
            "229/229 [==============================] - 4s 19ms/step - loss: 5734.0742 - mae: 41.6547 - val_loss: 8412.8262 - val_mae: 66.8247 - lr: 4.0000e-05\n",
            "Epoch 64/100\n",
            "229/229 [==============================] - 4s 19ms/step - loss: 5709.2251 - mae: 41.4527 - val_loss: 8448.9150 - val_mae: 67.1645 - lr: 4.0000e-05\n",
            "Epoch 65/100\n",
            "229/229 [==============================] - 4s 19ms/step - loss: 5687.3823 - mae: 41.2714 - val_loss: 8483.3281 - val_mae: 67.4985 - lr: 4.0000e-05\n",
            "Epoch 66/100\n",
            "229/229 [==============================] - 4s 19ms/step - loss: 5666.8149 - mae: 41.0543 - val_loss: 8533.6025 - val_mae: 67.9504 - lr: 4.0000e-05\n",
            "Epoch 67/100\n",
            "229/229 [==============================] - 4s 19ms/step - loss: 5654.2568 - mae: 41.0073 - val_loss: 8540.5303 - val_mae: 68.0091 - lr: 8.0000e-06\n",
            "Epoch 68/100\n",
            "229/229 [==============================] - 4s 19ms/step - loss: 5650.2485 - mae: 40.9844 - val_loss: 8548.5557 - val_mae: 68.0818 - lr: 8.0000e-06\n",
            "Epoch 69/100\n",
            "229/229 [==============================] - 4s 19ms/step - loss: 5646.1465 - mae: 40.9531 - val_loss: 8555.7393 - val_mae: 68.1476 - lr: 8.0000e-06\n",
            "Epoch 70/100\n",
            "229/229 [==============================] - 5s 20ms/step - loss: 5642.0215 - mae: 40.9490 - val_loss: 8564.2188 - val_mae: 68.2262 - lr: 8.0000e-06\n",
            "Epoch 71/100\n",
            "229/229 [==============================] - 4s 19ms/step - loss: 5637.7114 - mae: 40.8969 - val_loss: 8574.8496 - val_mae: 68.3098 - lr: 8.0000e-06\n",
            "Epoch 72/100\n",
            "229/229 [==============================] - 4s 20ms/step - loss: 5635.0034 - mae: 40.8942 - val_loss: 8577.1367 - val_mae: 68.3312 - lr: 1.6000e-06\n",
            "Epoch 73/100\n",
            "229/229 [==============================] - 4s 19ms/step - loss: 5634.1182 - mae: 40.8916 - val_loss: 8579.5195 - val_mae: 68.3513 - lr: 1.6000e-06\n",
            "Epoch 74/100\n",
            "229/229 [==============================] - 4s 19ms/step - loss: 5633.2031 - mae: 40.8904 - val_loss: 8581.6631 - val_mae: 68.3702 - lr: 1.6000e-06\n",
            "Epoch 75/100\n",
            "229/229 [==============================] - 4s 19ms/step - loss: 5632.2554 - mae: 40.8826 - val_loss: 8584.6650 - val_mae: 68.3965 - lr: 1.6000e-06\n",
            "Epoch 76/100\n",
            "229/229 [==============================] - 4s 19ms/step - loss: 5631.2847 - mae: 40.8759 - val_loss: 8586.6113 - val_mae: 68.4143 - lr: 1.6000e-06\n"
          ]
        }
      ]
    },
    {
      "cell_type": "code",
      "source": [
        "plt.plot(history.history['loss'])\n",
        "plt.plot(history.history['val_loss'])\n",
        "plt.ylabel('MSE')\n",
        "plt.xlabel('Epoch')\n",
        "plt.legend(['train', 'validation'], loc='upper left')\n",
        "plt.show()\n",
        "\n",
        "plt.plot(history.history['mae'])\n",
        "plt.plot(history.history['val_mae'])\n",
        "plt.ylabel('MAE')\n",
        "plt.xlabel('Epoch')\n",
        "plt.legend(['train', 'validation'], loc='upper left')\n",
        "plt.show()"
      ],
      "metadata": {
        "id": "DdDlXA5Ft0Go",
        "colab": {
          "base_uri": "https://localhost:8080/",
          "height": 541
        },
        "outputId": "91f5e4f6-7f3b-4506-871f-9b751b74d417"
      },
      "execution_count": null,
      "outputs": [
        {
          "output_type": "display_data",
          "data": {
            "text/plain": [
              "<Figure size 432x288 with 1 Axes>"
            ],
            "image/png": "[encoded data removed]"
          },
          "metadata": {
            "needs_background": "light"
          }
        },
        {
          "output_type": "display_data",
          "data": {
            "text/plain": [
              "<Figure size 432x288 with 1 Axes>"
            ],
            "image/png": "[encoded data removed]"
          },
          "metadata": {
            "needs_background": "light"
          }
        }
      ]
    },
    {
      "cell_type": "code",
      "source": [
        "#### simple 2 layer\n",
        "model2 = Sequential()\n",
        "model2.add(Input(input_shape))\n",
        "model2.add(normalizer)\n",
        "model2.add(SimpleRNN(32, activation='tanh', return_sequences = True))\n",
        "model2.add(SimpleRNN(32, activation='tanh', return_sequences = False))\n",
        "model2.add(Dense(32, activation='relu'))\n",
        "model2.add(Dense(output_shape, activation='linear'))\n",
        "\n",
        "optim=tf.keras.optimizers.Adam(0.001)\n",
        "model2.compile(optimizer=optim, loss='mse', metrics=['mae'])\n",
        "model2.summary()"
      ],
      "metadata": {
        "id": "oHH-QSAfvwaz",
        "colab": {
          "base_uri": "https://localhost:8080/"
        },
        "outputId": "879a4bb6-236a-475e-a3ab-196569c89466"
      },
      "execution_count": null,
      "outputs": [
        {
          "output_type": "stream",
          "name": "stdout",
          "text": [
            "Model: \"sequential_1\"\n",
            "_________________________________________________________________\n",
            " Layer (type)                Output Shape              Param #   \n",
            "=================================================================\n",
            " normalization (Normalizatio  (None, 16, 5)            11        \n",
            " n)                                                              \n",
            "                                                                 \n",
            " simple_rnn_1 (SimpleRNN)    (None, 16, 32)            1216      \n",
            "                                                                 \n",
            " simple_rnn_2 (SimpleRNN)    (None, 32)                2080      \n",
            "                                                                 \n",
            " dense_2 (Dense)             (None, 32)                1056      \n",
            "                                                                 \n",
            " dense_3 (Dense)             (None, 8)                 264       \n",
            "                                                                 \n",
            "=================================================================\n",
            "Total params: 4,627\n",
            "Trainable params: 4,616\n",
            "Non-trainable params: 11\n",
            "_________________________________________________________________\n"
          ]
        }
      ]
    },
    {
      "cell_type": "code",
      "source": [
        "history = model2.fit(X_train, y_train, validation_split=0.1, epochs=n_epochs, verbose=1, callbacks=[reduce_lr, es])"
      ],
      "metadata": {
        "id": "AhBARbqWwWMV",
        "colab": {
          "base_uri": "https://localhost:8080/"
        },
        "outputId": "b6d52d74-2db1-4379-c422-464588aab5df"
      },
      "execution_count": null,
      "outputs": [
        {
          "output_type": "stream",
          "name": "stdout",
          "text": [
            "Epoch 1/100\n",
            "229/229 [==============================] - 11s 40ms/step - loss: 258245.8906 - mae: 363.0830 - val_loss: 127666.7578 - val_mae: 267.8364 - lr: 0.0010\n",
            "Epoch 2/100\n",
            "229/229 [==============================] - 9s 39ms/step - loss: 201575.0156 - mae: 321.2614 - val_loss: 113241.3516 - val_mae: 273.1817 - lr: 0.0010\n",
            "Epoch 3/100\n",
            "229/229 [==============================] - 9s 38ms/step - loss: 146781.3906 - mae: 250.6609 - val_loss: 78152.8594 - val_mae: 258.0268 - lr: 0.0010\n",
            "Epoch 4/100\n",
            "229/229 [==============================] - 9s 39ms/step - loss: 104156.6328 - mae: 180.4320 - val_loss: 70302.7891 - val_mae: 226.5588 - lr: 0.0010\n",
            "Epoch 5/100\n",
            "229/229 [==============================] - 9s 39ms/step - loss: 77940.3359 - mae: 154.6274 - val_loss: 78142.4688 - val_mae: 236.9847 - lr: 0.0010\n",
            "Epoch 6/100\n",
            "229/229 [==============================] - 9s 39ms/step - loss: 58930.6641 - mae: 142.5847 - val_loss: 75953.9297 - val_mae: 249.5132 - lr: 0.0010\n",
            "Epoch 7/100\n",
            "229/229 [==============================] - 9s 39ms/step - loss: 38760.7734 - mae: 106.1165 - val_loss: 20586.5645 - val_mae: 89.4400 - lr: 0.0010\n",
            "Epoch 8/100\n",
            "229/229 [==============================] - 9s 39ms/step - loss: 26392.9121 - mae: 85.2095 - val_loss: 22436.4863 - val_mae: 89.0678 - lr: 0.0010\n",
            "Epoch 9/100\n",
            "229/229 [==============================] - 9s 39ms/step - loss: 19502.7852 - mae: 73.6287 - val_loss: 16020.8857 - val_mae: 71.4316 - lr: 0.0010\n",
            "Epoch 10/100\n",
            "229/229 [==============================] - 9s 40ms/step - loss: 14853.5752 - mae: 60.9371 - val_loss: 11896.2129 - val_mae: 61.7131 - lr: 0.0010\n",
            "Epoch 11/100\n",
            "229/229 [==============================] - 9s 39ms/step - loss: 12391.0771 - mae: 55.4490 - val_loss: 10751.7480 - val_mae: 55.0987 - lr: 0.0010\n",
            "Epoch 12/100\n",
            "229/229 [==============================] - 9s 39ms/step - loss: 10001.0703 - mae: 49.8528 - val_loss: 10430.1357 - val_mae: 57.2197 - lr: 0.0010\n",
            "Epoch 13/100\n",
            "229/229 [==============================] - 9s 39ms/step - loss: 8195.2900 - mae: 45.5743 - val_loss: 10970.0723 - val_mae: 54.4039 - lr: 0.0010\n",
            "Epoch 14/100\n",
            "229/229 [==============================] - 9s 40ms/step - loss: 7923.4233 - mae: 43.8501 - val_loss: 11775.1836 - val_mae: 69.1294 - lr: 0.0010\n",
            "Epoch 15/100\n",
            "229/229 [==============================] - 9s 39ms/step - loss: 12367.7305 - mae: 63.5276 - val_loss: 42310.9375 - val_mae: 102.4867 - lr: 0.0010\n",
            "Epoch 16/100\n",
            "229/229 [==============================] - 9s 39ms/step - loss: 9192.0420 - mae: 50.4427 - val_loss: 10408.3838 - val_mae: 51.5013 - lr: 0.0010\n",
            "Epoch 17/100\n",
            "229/229 [==============================] - 9s 40ms/step - loss: 7957.4419 - mae: 46.9603 - val_loss: 58386.7070 - val_mae: 128.1655 - lr: 0.0010\n",
            "Epoch 18/100\n",
            "229/229 [==============================] - 9s 40ms/step - loss: 8086.0352 - mae: 47.2959 - val_loss: 39973.7734 - val_mae: 106.9140 - lr: 0.0010\n",
            "Epoch 19/100\n",
            "229/229 [==============================] - 9s 40ms/step - loss: 6532.4395 - mae: 42.8940 - val_loss: 40348.3672 - val_mae: 107.1609 - lr: 0.0010\n",
            "Epoch 20/100\n",
            "229/229 [==============================] - 9s 41ms/step - loss: 6204.3130 - mae: 42.0368 - val_loss: 35652.2773 - val_mae: 100.1853 - lr: 0.0010\n",
            "Epoch 21/100\n",
            "229/229 [==============================] - 10s 42ms/step - loss: 5839.3730 - mae: 40.9707 - val_loss: 27605.3535 - val_mae: 87.8392 - lr: 0.0010\n",
            "Epoch 22/100\n",
            "229/229 [==============================] - 9s 40ms/step - loss: 5541.6196 - mae: 39.7687 - val_loss: 26747.9824 - val_mae: 85.8308 - lr: 2.0000e-04\n",
            "Epoch 23/100\n",
            "229/229 [==============================] - 9s 40ms/step - loss: 5456.2061 - mae: 39.4807 - val_loss: 23112.5039 - val_mae: 79.7547 - lr: 2.0000e-04\n",
            "Epoch 24/100\n",
            "229/229 [==============================] - 9s 41ms/step - loss: 5329.7036 - mae: 39.2099 - val_loss: 23712.0840 - val_mae: 80.5509 - lr: 2.0000e-04\n",
            "Epoch 25/100\n",
            "229/229 [==============================] - 9s 41ms/step - loss: 5240.6367 - mae: 38.8476 - val_loss: 23182.6660 - val_mae: 79.8154 - lr: 2.0000e-04\n",
            "Epoch 26/100\n",
            "229/229 [==============================] - 10s 42ms/step - loss: 5156.5513 - mae: 38.4665 - val_loss: 22874.9512 - val_mae: 78.8723 - lr: 2.0000e-04\n",
            "Epoch 27/100\n",
            "229/229 [==============================] - 9s 41ms/step - loss: 5105.3198 - mae: 38.2969 - val_loss: 22742.4355 - val_mae: 78.7649 - lr: 4.0000e-05\n",
            "Epoch 28/100\n",
            "229/229 [==============================] - 9s 40ms/step - loss: 5086.3247 - mae: 38.2065 - val_loss: 22597.5234 - val_mae: 78.4755 - lr: 4.0000e-05\n",
            "Epoch 29/100\n",
            "229/229 [==============================] - 9s 40ms/step - loss: 5066.0332 - mae: 38.1475 - val_loss: 22447.3379 - val_mae: 77.9686 - lr: 4.0000e-05\n",
            "Epoch 30/100\n",
            "229/229 [==============================] - 9s 40ms/step - loss: 5045.6499 - mae: 38.0313 - val_loss: 22292.5762 - val_mae: 77.8536 - lr: 4.0000e-05\n",
            "Epoch 31/100\n",
            "229/229 [==============================] - 9s 40ms/step - loss: 5022.0332 - mae: 37.9291 - val_loss: 22126.3691 - val_mae: 77.4463 - lr: 4.0000e-05\n"
          ]
        }
      ]
    },
    {
      "cell_type": "code",
      "source": [
        "plt.plot(history.history['loss'])\n",
        "plt.plot(history.history['val_loss'])\n",
        "plt.ylabel('MSE')\n",
        "plt.xlabel('Epoch')\n",
        "plt.legend(['train', 'validation'], loc='upper left')\n",
        "plt.show()\n",
        "\n",
        "plt.plot(history.history['mae'])\n",
        "plt.plot(history.history['val_mae'])\n",
        "plt.ylabel('MAE')\n",
        "plt.xlabel('Epoch')\n",
        "plt.legend(['train', 'validation'], loc='upper left')\n",
        "plt.show()"
      ],
      "metadata": {
        "id": "GPy--YQqwgwa",
        "colab": {
          "base_uri": "https://localhost:8080/",
          "height": 541
        },
        "outputId": "5cc952c5-ce2d-4423-9055-cc2ca8b9b2f7"
      },
      "execution_count": null,
      "outputs": [
        {
          "output_type": "display_data",
          "data": {
            "text/plain": [
              "<Figure size 432x288 with 1 Axes>"
            ],
            "image/png": "[encoded data removed]"
          },
          "metadata": {
            "needs_background": "light"
          }
        },
        {
          "output_type": "display_data",
          "data": {
            "text/plain": [
              "<Figure size 432x288 with 1 Axes>"
            ],
            "image/png": "[encoded data removed]"
          },
          "metadata": {
            "needs_background": "light"
          }
        }
      ]
    },
    {
      "cell_type": "code",
      "source": [
        "#### simple 3 layers\n",
        "model3 = Sequential()\n",
        "model3.add(Input(input_shape))\n",
        "model3.add(normalizer)\n",
        "model3.add(SimpleRNN(32, activation='tanh', return_sequences = True))\n",
        "model3.add(SimpleRNN(32, activation='tanh', return_sequences = True))\n",
        "model3.add(SimpleRNN(32, activation='tanh', return_sequences = False))\n",
        "model3.add(Dense(32, activation='relu'))\n",
        "model3.add(Dense(output_shape, activation='linear'))\n",
        "\n",
        "optim=tf.keras.optimizers.Adam(0.001)\n",
        "model3.compile(optimizer=optim, loss='mse', metrics=['mae'])\n",
        "model3.summary()"
      ],
      "metadata": {
        "id": "WY_7mAIKw6iO",
        "colab": {
          "base_uri": "https://localhost:8080/"
        },
        "outputId": "e5d722b4-9bc3-4082-b49e-76977ac6c9f4"
      },
      "execution_count": null,
      "outputs": [
        {
          "output_type": "stream",
          "name": "stdout",
          "text": [
            "Model: \"sequential_2\"\n",
            "_________________________________________________________________\n",
            " Layer (type)                Output Shape              Param #   \n",
            "=================================================================\n",
            " normalization (Normalizatio  (None, 16, 5)            11        \n",
            " n)                                                              \n",
            "                                                                 \n",
            " simple_rnn_3 (SimpleRNN)    (None, 16, 32)            1216      \n",
            "                                                                 \n",
            " simple_rnn_4 (SimpleRNN)    (None, 16, 32)            2080      \n",
            "                                                                 \n",
            " simple_rnn_5 (SimpleRNN)    (None, 32)                2080      \n",
            "                                                                 \n",
            " dense_4 (Dense)             (None, 32)                1056      \n",
            "                                                                 \n",
            " dense_5 (Dense)             (None, 8)                 264       \n",
            "                                                                 \n",
            "=================================================================\n",
            "Total params: 6,707\n",
            "Trainable params: 6,696\n",
            "Non-trainable params: 11\n",
            "_________________________________________________________________\n"
          ]
        }
      ]
    },
    {
      "cell_type": "code",
      "source": [
        "history = model3.fit(X_train, y_train, validation_split=0.1, epochs=n_epochs, verbose=1, callbacks=[reduce_lr, es])"
      ],
      "metadata": {
        "id": "Nb3vEvamxJSQ",
        "colab": {
          "base_uri": "https://localhost:8080/"
        },
        "outputId": "0e2a2fbd-8497-4220-a0f9-b56ba87c4727"
      },
      "execution_count": null,
      "outputs": [
        {
          "output_type": "stream",
          "name": "stdout",
          "text": [
            "Epoch 1/100\n",
            "229/229 [==============================] - 17s 64ms/step - loss: 257939.7031 - mae: 363.8557 - val_loss: 134251.9844 - val_mae: 274.2417 - lr: 0.0010\n",
            "Epoch 2/100\n",
            "229/229 [==============================] - 14s 63ms/step - loss: 199464.9844 - mae: 325.9099 - val_loss: 85633.0703 - val_mae: 241.7195 - lr: 0.0010\n",
            "Epoch 3/100\n",
            "229/229 [==============================] - 14s 62ms/step - loss: 132818.5469 - mae: 256.4524 - val_loss: 40300.3672 - val_mae: 167.6488 - lr: 0.0010\n",
            "Epoch 4/100\n",
            "229/229 [==============================] - 14s 62ms/step - loss: 74290.2812 - mae: 164.9358 - val_loss: 17006.4668 - val_mae: 87.0216 - lr: 0.0010\n",
            "Epoch 5/100\n",
            "229/229 [==============================] - 14s 60ms/step - loss: 46147.4375 - mae: 113.6509 - val_loss: 18838.7754 - val_mae: 80.9934 - lr: 0.0010\n",
            "Epoch 6/100\n",
            "229/229 [==============================] - 14s 60ms/step - loss: 37646.6289 - mae: 97.0184 - val_loss: 22000.4297 - val_mae: 84.3796 - lr: 0.0010\n",
            "Epoch 7/100\n",
            "229/229 [==============================] - 14s 62ms/step - loss: 63347.4609 - mae: 166.6008 - val_loss: 52545.4570 - val_mae: 215.0175 - lr: 0.0010\n",
            "Epoch 8/100\n",
            "229/229 [==============================] - 14s 61ms/step - loss: 72966.1562 - mae: 213.1124 - val_loss: 31633.8203 - val_mae: 160.8405 - lr: 0.0010\n",
            "Epoch 9/100\n",
            "229/229 [==============================] - 14s 62ms/step - loss: 72106.6719 - mae: 208.0157 - val_loss: 28053.2070 - val_mae: 150.4088 - lr: 0.0010\n",
            "Epoch 10/100\n",
            "229/229 [==============================] - 14s 62ms/step - loss: 71942.9531 - mae: 207.2626 - val_loss: 27946.5117 - val_mae: 149.9555 - lr: 2.0000e-04\n",
            "Epoch 11/100\n",
            "229/229 [==============================] - 14s 60ms/step - loss: 71947.7969 - mae: 206.7206 - val_loss: 27814.6074 - val_mae: 149.4752 - lr: 2.0000e-04\n",
            "Epoch 12/100\n",
            "229/229 [==============================] - 14s 61ms/step - loss: 71868.6406 - mae: 206.4112 - val_loss: 27953.8555 - val_mae: 149.8386 - lr: 2.0000e-04\n",
            "Epoch 13/100\n",
            "229/229 [==============================] - 14s 62ms/step - loss: 71879.3828 - mae: 206.7398 - val_loss: 27882.8262 - val_mae: 149.4255 - lr: 2.0000e-04\n",
            "Epoch 14/100\n",
            "229/229 [==============================] - 14s 62ms/step - loss: 71862.5625 - mae: 206.4965 - val_loss: 28085.4941 - val_mae: 150.0495 - lr: 2.0000e-04\n",
            "Epoch 15/100\n",
            "229/229 [==============================] - 14s 62ms/step - loss: 71924.6016 - mae: 206.5379 - val_loss: 28056.3770 - val_mae: 149.9583 - lr: 4.0000e-05\n",
            "Epoch 16/100\n",
            "229/229 [==============================] - 14s 62ms/step - loss: 71925.8281 - mae: 206.4966 - val_loss: 28058.2773 - val_mae: 149.9788 - lr: 4.0000e-05\n",
            "Epoch 17/100\n",
            "229/229 [==============================] - 14s 61ms/step - loss: 71927.1719 - mae: 206.6194 - val_loss: 28040.4160 - val_mae: 149.9318 - lr: 4.0000e-05\n",
            "Epoch 18/100\n",
            "229/229 [==============================] - 14s 60ms/step - loss: 71927.5703 - mae: 206.4887 - val_loss: 28017.5723 - val_mae: 149.8678 - lr: 4.0000e-05\n",
            "Epoch 19/100\n",
            "229/229 [==============================] - 14s 61ms/step - loss: 71939.2188 - mae: 206.6026 - val_loss: 27951.1719 - val_mae: 149.6574 - lr: 4.0000e-05\n"
          ]
        }
      ]
    },
    {
      "cell_type": "code",
      "source": [
        "plt.plot(history.history['loss'])\n",
        "plt.plot(history.history['val_loss'])\n",
        "plt.ylabel('MSE')\n",
        "plt.xlabel('Epoch')\n",
        "plt.legend(['train', 'validation'], loc='upper left')\n",
        "plt.show()\n",
        "\n",
        "plt.plot(history.history['mae'])\n",
        "plt.plot(history.history['val_mae'])\n",
        "plt.ylabel('MAE')\n",
        "plt.xlabel('Epoch')\n",
        "plt.legend(['train', 'validation'], loc='upper left')\n",
        "plt.show()"
      ],
      "metadata": {
        "id": "LDfgPVb9xN1W",
        "colab": {
          "base_uri": "https://localhost:8080/",
          "height": 541
        },
        "outputId": "2e33eb4a-3313-4930-d479-dd64460a8ea5"
      },
      "execution_count": null,
      "outputs": [
        {
          "output_type": "display_data",
          "data": {
            "text/plain": [
              "<Figure size 432x288 with 1 Axes>"
            ],
            "image/png": "[encoded data removed]"
          },
          "metadata": {
            "needs_background": "light"
          }
        },
        {
          "output_type": "display_data",
          "data": {
            "text/plain": [
              "<Figure size 432x288 with 1 Axes>"
            ],
            "image/png": "[encoded data removed]"
          },
          "metadata": {
            "needs_background": "light"
          }
        }
      ]
    },
    {
      "cell_type": "code",
      "source": [
        "#### lstm 1 layer\n",
        "model4 = Sequential()\n",
        "model4.add(Input(input_shape))\n",
        "model4.add(normalizer)\n",
        "model4.add(LSTM(32, activation='tanh', return_sequences = False))\n",
        "model4.add(Dense(32, activation='relu'))\n",
        "model4.add(Dense(output_shape, activation='linear'))\n",
        "\n",
        "optim=tf.keras.optimizers.Adam(0.001)\n",
        "model4.compile(optimizer=optim, loss='mse', metrics=['mae'])\n",
        "model4.summary()"
      ],
      "metadata": {
        "id": "v9XwKBUlxUzN",
        "colab": {
          "base_uri": "https://localhost:8080/"
        },
        "outputId": "17cd4b9a-1727-46be-dd23-3982f10e55b5"
      },
      "execution_count": null,
      "outputs": [
        {
          "output_type": "stream",
          "name": "stdout",
          "text": [
            "Model: \"sequential_3\"\n",
            "_________________________________________________________________\n",
            " Layer (type)                Output Shape              Param #   \n",
            "=================================================================\n",
            " normalization (Normalizatio  (None, 16, 5)            11        \n",
            " n)                                                              \n",
            "                                                                 \n",
            " lstm (LSTM)                 (None, 32)                4864      \n",
            "                                                                 \n",
            " dense_6 (Dense)             (None, 32)                1056      \n",
            "                                                                 \n",
            " dense_7 (Dense)             (None, 8)                 264       \n",
            "                                                                 \n",
            "=================================================================\n",
            "Total params: 6,195\n",
            "Trainable params: 6,184\n",
            "Non-trainable params: 11\n",
            "_________________________________________________________________\n"
          ]
        }
      ]
    },
    {
      "cell_type": "code",
      "source": [
        "history = model4.fit(X_train, y_train, validation_split=0.1, epochs=n_epochs, verbose=1, callbacks=[reduce_lr, es])"
      ],
      "metadata": {
        "id": "_LZDxqBexln5",
        "colab": {
          "base_uri": "https://localhost:8080/"
        },
        "outputId": "2d37aa18-ebf2-41af-f8e7-c11e9c7da6c9"
      },
      "execution_count": null,
      "outputs": [
        {
          "output_type": "stream",
          "name": "stdout",
          "text": [
            "Epoch 1/100\n",
            "229/229 [==============================] - 6s 9ms/step - loss: 249969.6094 - mae: 358.7001 - val_loss: 107062.3750 - val_mae: 261.3678 - lr: 0.0010\n",
            "Epoch 2/100\n",
            "229/229 [==============================] - 2s 7ms/step - loss: 152275.6406 - mae: 281.9434 - val_loss: 38636.3398 - val_mae: 169.3448 - lr: 0.0010\n",
            "Epoch 3/100\n",
            "229/229 [==============================] - 2s 7ms/step - loss: 87447.3203 - mae: 190.3528 - val_loss: 20604.8770 - val_mae: 125.3977 - lr: 0.0010\n",
            "Epoch 4/100\n",
            "229/229 [==============================] - 2s 7ms/step - loss: 58429.8945 - mae: 150.1028 - val_loss: 15353.9854 - val_mae: 105.2394 - lr: 0.0010\n",
            "Epoch 5/100\n",
            "229/229 [==============================] - 2s 7ms/step - loss: 32548.2090 - mae: 111.8925 - val_loss: 12921.0850 - val_mae: 88.8296 - lr: 0.0010\n",
            "Epoch 6/100\n",
            "229/229 [==============================] - 2s 7ms/step - loss: 18908.4473 - mae: 80.6143 - val_loss: 10435.2744 - val_mae: 72.2704 - lr: 0.0010\n",
            "Epoch 7/100\n",
            "229/229 [==============================] - 2s 7ms/step - loss: 10838.0674 - mae: 53.0244 - val_loss: 7768.5684 - val_mae: 50.4842 - lr: 0.0010\n",
            "Epoch 8/100\n",
            "229/229 [==============================] - 2s 7ms/step - loss: 6670.3042 - mae: 36.0718 - val_loss: 4438.8989 - val_mae: 33.8557 - lr: 0.0010\n",
            "Epoch 9/100\n",
            "229/229 [==============================] - 2s 7ms/step - loss: 4241.1851 - mae: 26.5602 - val_loss: 2555.3225 - val_mae: 22.5261 - lr: 0.0010\n",
            "Epoch 10/100\n",
            "229/229 [==============================] - 2s 7ms/step - loss: 2787.9565 - mae: 20.9659 - val_loss: 2183.0032 - val_mae: 21.3226 - lr: 0.0010\n",
            "Epoch 11/100\n",
            "229/229 [==============================] - 2s 7ms/step - loss: 1966.7335 - mae: 17.0286 - val_loss: 1770.6250 - val_mae: 19.1178 - lr: 0.0010\n",
            "Epoch 12/100\n",
            "229/229 [==============================] - 2s 7ms/step - loss: 1503.9038 - mae: 14.3992 - val_loss: 1524.2324 - val_mae: 14.1891 - lr: 0.0010\n",
            "Epoch 13/100\n",
            "229/229 [==============================] - 2s 7ms/step - loss: 1241.3527 - mae: 12.8100 - val_loss: 1407.4313 - val_mae: 12.1788 - lr: 0.0010\n",
            "Epoch 14/100\n",
            "229/229 [==============================] - 2s 7ms/step - loss: 1088.8805 - mae: 11.6654 - val_loss: 1332.6938 - val_mae: 10.8151 - lr: 0.0010\n",
            "Epoch 15/100\n",
            "229/229 [==============================] - 2s 7ms/step - loss: 989.3339 - mae: 10.6339 - val_loss: 1451.6722 - val_mae: 15.2567 - lr: 0.0010\n",
            "Epoch 16/100\n",
            "229/229 [==============================] - 2s 7ms/step - loss: 938.4658 - mae: 10.4609 - val_loss: 1485.7583 - val_mae: 13.1426 - lr: 0.0010\n",
            "Epoch 17/100\n",
            "229/229 [==============================] - 2s 7ms/step - loss: 892.4053 - mae: 10.1387 - val_loss: 1317.2812 - val_mae: 12.2502 - lr: 0.0010\n",
            "Epoch 18/100\n",
            "229/229 [==============================] - 2s 7ms/step - loss: 873.7272 - mae: 9.8601 - val_loss: 1235.2521 - val_mae: 9.7936 - lr: 0.0010\n",
            "Epoch 19/100\n",
            "229/229 [==============================] - 2s 7ms/step - loss: 820.1401 - mae: 9.1232 - val_loss: 1249.8304 - val_mae: 8.8598 - lr: 0.0010\n",
            "Epoch 20/100\n",
            "229/229 [==============================] - 2s 7ms/step - loss: 804.0188 - mae: 9.2537 - val_loss: 1230.3280 - val_mae: 8.7663 - lr: 0.0010\n",
            "Epoch 21/100\n",
            "229/229 [==============================] - 2s 7ms/step - loss: 776.4772 - mae: 8.6607 - val_loss: 1216.2559 - val_mae: 8.4532 - lr: 0.0010\n",
            "Epoch 22/100\n",
            "229/229 [==============================] - 2s 7ms/step - loss: 758.3093 - mae: 8.6830 - val_loss: 1236.8850 - val_mae: 9.0414 - lr: 0.0010\n",
            "Epoch 23/100\n",
            "229/229 [==============================] - 2s 7ms/step - loss: 743.4108 - mae: 8.4570 - val_loss: 1232.3296 - val_mae: 8.7463 - lr: 0.0010\n",
            "Epoch 24/100\n",
            "229/229 [==============================] - 2s 7ms/step - loss: 729.4987 - mae: 8.4016 - val_loss: 1197.1692 - val_mae: 8.9561 - lr: 0.0010\n",
            "Epoch 25/100\n",
            "229/229 [==============================] - 2s 7ms/step - loss: 723.1476 - mae: 8.1911 - val_loss: 1207.7422 - val_mae: 9.2454 - lr: 0.0010\n",
            "Epoch 26/100\n",
            "229/229 [==============================] - 2s 7ms/step - loss: 716.7198 - mae: 8.3847 - val_loss: 1223.3718 - val_mae: 10.8830 - lr: 0.0010\n",
            "Epoch 27/100\n",
            "229/229 [==============================] - 2s 7ms/step - loss: 699.1499 - mae: 8.0589 - val_loss: 1191.2975 - val_mae: 9.4718 - lr: 0.0010\n",
            "Epoch 28/100\n",
            "229/229 [==============================] - 2s 7ms/step - loss: 694.9631 - mae: 8.0117 - val_loss: 1171.9918 - val_mae: 9.2849 - lr: 0.0010\n",
            "Epoch 29/100\n",
            "229/229 [==============================] - 2s 7ms/step - loss: 693.1392 - mae: 7.9228 - val_loss: 1156.7533 - val_mae: 7.7908 - lr: 0.0010\n",
            "Epoch 30/100\n",
            "229/229 [==============================] - 2s 7ms/step - loss: 683.0041 - mae: 7.9786 - val_loss: 1148.7129 - val_mae: 8.6645 - lr: 0.0010\n",
            "Epoch 31/100\n",
            "229/229 [==============================] - 2s 7ms/step - loss: 675.3719 - mae: 7.7683 - val_loss: 1179.1571 - val_mae: 7.9214 - lr: 0.0010\n",
            "Epoch 32/100\n",
            "229/229 [==============================] - 2s 7ms/step - loss: 679.8192 - mae: 8.2136 - val_loss: 1160.0885 - val_mae: 9.2972 - lr: 0.0010\n",
            "Epoch 33/100\n",
            "229/229 [==============================] - 2s 7ms/step - loss: 668.5988 - mae: 7.7650 - val_loss: 1162.3361 - val_mae: 8.0041 - lr: 0.0010\n",
            "Epoch 34/100\n",
            "229/229 [==============================] - 2s 7ms/step - loss: 665.2269 - mae: 7.6146 - val_loss: 1139.3268 - val_mae: 7.5969 - lr: 0.0010\n",
            "Epoch 35/100\n",
            "229/229 [==============================] - 2s 7ms/step - loss: 656.4960 - mae: 7.5719 - val_loss: 1185.8221 - val_mae: 9.4376 - lr: 0.0010\n",
            "Epoch 36/100\n",
            "229/229 [==============================] - 2s 7ms/step - loss: 662.2356 - mae: 7.7833 - val_loss: 1142.6742 - val_mae: 8.1408 - lr: 0.0010\n",
            "Epoch 37/100\n",
            "229/229 [==============================] - 2s 7ms/step - loss: 655.0406 - mae: 7.6901 - val_loss: 1129.7129 - val_mae: 7.1839 - lr: 0.0010\n",
            "Epoch 38/100\n",
            "229/229 [==============================] - 2s 7ms/step - loss: 649.4397 - mae: 7.4499 - val_loss: 1176.7108 - val_mae: 8.1605 - lr: 0.0010\n",
            "Epoch 39/100\n",
            "229/229 [==============================] - 2s 7ms/step - loss: 647.1613 - mae: 7.4976 - val_loss: 1163.0288 - val_mae: 8.2728 - lr: 0.0010\n",
            "Epoch 40/100\n",
            "229/229 [==============================] - 2s 7ms/step - loss: 635.5152 - mae: 7.4518 - val_loss: 1210.8706 - val_mae: 9.2116 - lr: 0.0010\n",
            "Epoch 41/100\n",
            "229/229 [==============================] - 2s 7ms/step - loss: 638.3093 - mae: 7.4947 - val_loss: 1156.4309 - val_mae: 7.7381 - lr: 0.0010\n",
            "Epoch 42/100\n",
            "229/229 [==============================] - 2s 7ms/step - loss: 643.2544 - mae: 7.7512 - val_loss: 1198.5463 - val_mae: 9.9484 - lr: 0.0010\n",
            "Epoch 43/100\n",
            "229/229 [==============================] - 2s 7ms/step - loss: 614.9920 - mae: 6.7091 - val_loss: 1155.9177 - val_mae: 7.3063 - lr: 2.0000e-04\n",
            "Epoch 44/100\n",
            "229/229 [==============================] - 2s 7ms/step - loss: 606.7755 - mae: 6.6120 - val_loss: 1158.9420 - val_mae: 8.0786 - lr: 2.0000e-04\n",
            "Epoch 45/100\n",
            "229/229 [==============================] - 2s 10ms/step - loss: 605.3487 - mae: 6.6410 - val_loss: 1152.0951 - val_mae: 7.3762 - lr: 2.0000e-04\n",
            "Epoch 46/100\n",
            "229/229 [==============================] - 3s 11ms/step - loss: 605.6265 - mae: 6.7330 - val_loss: 1159.0856 - val_mae: 7.3404 - lr: 2.0000e-04\n",
            "Epoch 47/100\n",
            "229/229 [==============================] - 3s 11ms/step - loss: 603.4297 - mae: 6.7124 - val_loss: 1170.0236 - val_mae: 8.0867 - lr: 2.0000e-04\n",
            "Epoch 48/100\n",
            "229/229 [==============================] - 2s 10ms/step - loss: 599.4607 - mae: 6.4526 - val_loss: 1156.4446 - val_mae: 7.4790 - lr: 4.0000e-05\n",
            "Epoch 49/100\n",
            "229/229 [==============================] - 2s 11ms/step - loss: 597.7643 - mae: 6.4707 - val_loss: 1160.2156 - val_mae: 7.6532 - lr: 4.0000e-05\n",
            "Epoch 50/100\n",
            "229/229 [==============================] - 2s 10ms/step - loss: 597.1650 - mae: 6.4672 - val_loss: 1161.5730 - val_mae: 7.8751 - lr: 4.0000e-05\n",
            "Epoch 51/100\n",
            "229/229 [==============================] - 2s 10ms/step - loss: 596.7887 - mae: 6.4304 - val_loss: 1161.5132 - val_mae: 7.7405 - lr: 4.0000e-05\n",
            "Epoch 52/100\n",
            "229/229 [==============================] - 3s 12ms/step - loss: 596.7388 - mae: 6.4533 - val_loss: 1162.7146 - val_mae: 7.6505 - lr: 4.0000e-05\n"
          ]
        }
      ]
    },
    {
      "cell_type": "code",
      "source": [
        "plt.plot(history.history['loss'])\n",
        "plt.plot(history.history['val_loss'])\n",
        "plt.ylabel('MSE')\n",
        "plt.xlabel('Epoch')\n",
        "plt.legend(['train', 'validation'], loc='upper left')\n",
        "plt.show()\n",
        "\n",
        "plt.plot(history.history['mae'])\n",
        "plt.plot(history.history['val_mae'])\n",
        "plt.ylabel('MAE')\n",
        "plt.xlabel('Epoch')\n",
        "plt.legend(['train', 'validation'], loc='upper left')\n",
        "plt.show()"
      ],
      "metadata": {
        "id": "_pBkBtFqxnwK",
        "colab": {
          "base_uri": "https://localhost:8080/",
          "height": 541
        },
        "outputId": "9a5efdba-8cc7-4862-ac00-b8b5585a16d7"
      },
      "execution_count": null,
      "outputs": [
        {
          "output_type": "display_data",
          "data": {
            "text/plain": [
              "<Figure size 432x288 with 1 Axes>"
            ],
            "image/png": "[encoded data removed]"
          },
          "metadata": {
            "needs_background": "light"
          }
        },
        {
          "output_type": "display_data",
          "data": {
            "text/plain": [
              "<Figure size 432x288 with 1 Axes>"
            ],
            "image/png": "[encoded data removed]"
          },
          "metadata": {
            "needs_background": "light"
          }
        }
      ]
    },
    {
      "cell_type": "code",
      "source": [
        "#### lstm 2 layer\n",
        "model5 = Sequential()\n",
        "model5.add(Input(input_shape))\n",
        "model5.add(normalizer)\n",
        "model5.add(LSTM(32, activation='tanh', return_sequences = True))\n",
        "model5.add(LSTM(32, activation='tanh', return_sequences = False))\n",
        "model5.add(Dense(32, activation='relu'))\n",
        "model5.add(Dense(output_shape, activation='linear'))\n",
        "\n",
        "optim=tf.keras.optimizers.Adam(0.001)\n",
        "model5.compile(optimizer=optim, loss='mse', metrics=['mae'])\n",
        "model5.summary()"
      ],
      "metadata": {
        "id": "4vFSacAwx8TY",
        "colab": {
          "base_uri": "https://localhost:8080/"
        },
        "outputId": "27a38d80-344f-4a67-ebe9-7b3d02b7a39c"
      },
      "execution_count": null,
      "outputs": [
        {
          "output_type": "stream",
          "name": "stdout",
          "text": [
            "Model: \"sequential_4\"\n",
            "_________________________________________________________________\n",
            " Layer (type)                Output Shape              Param #   \n",
            "=================================================================\n",
            " normalization (Normalizatio  (None, 16, 5)            11        \n",
            " n)                                                              \n",
            "                                                                 \n",
            " lstm_1 (LSTM)               (None, 16, 32)            4864      \n",
            "                                                                 \n",
            " lstm_2 (LSTM)               (None, 32)                8320      \n",
            "                                                                 \n",
            " dense_8 (Dense)             (None, 32)                1056      \n",
            "                                                                 \n",
            " dense_9 (Dense)             (None, 8)                 264       \n",
            "                                                                 \n",
            "=================================================================\n",
            "Total params: 14,515\n",
            "Trainable params: 14,504\n",
            "Non-trainable params: 11\n",
            "_________________________________________________________________\n"
          ]
        }
      ]
    },
    {
      "cell_type": "code",
      "source": [
        "history = model5.fit(X_train, y_train, validation_split=0.1, epochs=n_epochs, verbose=1, callbacks=[reduce_lr, es])"
      ],
      "metadata": {
        "id": "puPLXEjryU-u",
        "colab": {
          "base_uri": "https://localhost:8080/"
        },
        "outputId": "39bc0e99-aecf-4ce9-e085-92f5aa23c9b8"
      },
      "execution_count": null,
      "outputs": [
        {
          "output_type": "stream",
          "name": "stdout",
          "text": [
            "Epoch 1/100\n",
            "229/229 [==============================] - 8s 15ms/step - loss: 250879.4375 - mae: 360.1960 - val_loss: 112156.7891 - val_mae: 266.3392 - lr: 0.0010\n",
            "Epoch 2/100\n",
            "229/229 [==============================] - 3s 11ms/step - loss: 162527.2188 - mae: 293.9257 - val_loss: 45569.4922 - val_mae: 185.3581 - lr: 0.0010\n",
            "Epoch 3/100\n",
            "229/229 [==============================] - 3s 11ms/step - loss: 91414.3672 - mae: 192.2773 - val_loss: 22649.3867 - val_mae: 125.0258 - lr: 0.0010\n",
            "Epoch 4/100\n",
            "229/229 [==============================] - 3s 11ms/step - loss: 50596.6797 - mae: 138.3694 - val_loss: 13601.7949 - val_mae: 98.1383 - lr: 0.0010\n",
            "Epoch 5/100\n",
            "229/229 [==============================] - 3s 11ms/step - loss: 26041.1777 - mae: 94.1195 - val_loss: 8386.8525 - val_mae: 68.7828 - lr: 0.0010\n",
            "Epoch 6/100\n",
            "229/229 [==============================] - 3s 11ms/step - loss: 13939.4395 - mae: 54.9175 - val_loss: 4696.5503 - val_mae: 42.1326 - lr: 0.0010\n",
            "Epoch 7/100\n",
            "229/229 [==============================] - 3s 11ms/step - loss: 8444.1299 - mae: 36.2707 - val_loss: 3600.7717 - val_mae: 36.6030 - lr: 0.0010\n",
            "Epoch 8/100\n",
            "229/229 [==============================] - 3s 11ms/step - loss: 5676.3013 - mae: 29.2502 - val_loss: 3086.6882 - val_mae: 29.3284 - lr: 0.0010\n",
            "Epoch 9/100\n",
            "229/229 [==============================] - 3s 11ms/step - loss: 3957.3447 - mae: 24.8524 - val_loss: 2527.6809 - val_mae: 27.6086 - lr: 0.0010\n",
            "Epoch 10/100\n",
            "229/229 [==============================] - 3s 11ms/step - loss: 2851.6899 - mae: 21.6003 - val_loss: 3135.7627 - val_mae: 30.6714 - lr: 0.0010\n",
            "Epoch 11/100\n",
            "229/229 [==============================] - 3s 11ms/step - loss: 2141.7466 - mae: 18.9025 - val_loss: 2366.2493 - val_mae: 22.0438 - lr: 0.0010\n",
            "Epoch 12/100\n",
            "229/229 [==============================] - 3s 11ms/step - loss: 1694.5392 - mae: 16.8295 - val_loss: 2191.5767 - val_mae: 20.9782 - lr: 0.0010\n",
            "Epoch 13/100\n",
            "229/229 [==============================] - 3s 11ms/step - loss: 1418.2977 - mae: 15.3003 - val_loss: 2108.6921 - val_mae: 19.0354 - lr: 0.0010\n",
            "Epoch 14/100\n",
            "229/229 [==============================] - 3s 11ms/step - loss: 1175.0840 - mae: 13.4103 - val_loss: 1960.7244 - val_mae: 16.0891 - lr: 0.0010\n",
            "Epoch 15/100\n",
            "229/229 [==============================] - 3s 11ms/step - loss: 1045.8494 - mae: 12.6050 - val_loss: 2028.6931 - val_mae: 17.3191 - lr: 0.0010\n",
            "Epoch 16/100\n",
            "229/229 [==============================] - 3s 11ms/step - loss: 950.7726 - mae: 11.5098 - val_loss: 1962.5854 - val_mae: 16.3743 - lr: 0.0010\n",
            "Epoch 17/100\n",
            "229/229 [==============================] - 3s 12ms/step - loss: 883.3389 - mae: 10.9724 - val_loss: 2159.1663 - val_mae: 16.6036 - lr: 0.0010\n",
            "Epoch 18/100\n",
            "229/229 [==============================] - 3s 11ms/step - loss: 845.1718 - mae: 10.3866 - val_loss: 1951.4719 - val_mae: 17.8141 - lr: 0.0010\n",
            "Epoch 19/100\n",
            "229/229 [==============================] - 3s 11ms/step - loss: 808.4824 - mae: 10.0172 - val_loss: 1819.8118 - val_mae: 14.6358 - lr: 0.0010\n",
            "Epoch 20/100\n",
            "229/229 [==============================] - 3s 11ms/step - loss: 779.7948 - mae: 9.7619 - val_loss: 1941.6613 - val_mae: 19.7822 - lr: 0.0010\n",
            "Epoch 21/100\n",
            "229/229 [==============================] - 3s 11ms/step - loss: 748.7127 - mae: 9.4924 - val_loss: 1641.7979 - val_mae: 12.7020 - lr: 0.0010\n",
            "Epoch 22/100\n",
            "229/229 [==============================] - 3s 11ms/step - loss: 741.4659 - mae: 9.3010 - val_loss: 1737.1145 - val_mae: 13.6428 - lr: 0.0010\n",
            "Epoch 23/100\n",
            "229/229 [==============================] - 3s 11ms/step - loss: 720.2184 - mae: 9.2852 - val_loss: 1790.0599 - val_mae: 14.9832 - lr: 0.0010\n",
            "Epoch 24/100\n",
            "229/229 [==============================] - 3s 11ms/step - loss: 736.5538 - mae: 9.5162 - val_loss: 1899.9866 - val_mae: 16.6365 - lr: 0.0010\n",
            "Epoch 25/100\n",
            "229/229 [==============================] - 3s 11ms/step - loss: 686.2819 - mae: 8.8255 - val_loss: 1570.7167 - val_mae: 12.4923 - lr: 0.0010\n",
            "Epoch 26/100\n",
            "229/229 [==============================] - 3s 11ms/step - loss: 681.1183 - mae: 8.7925 - val_loss: 1924.0861 - val_mae: 15.8735 - lr: 0.0010\n",
            "Epoch 27/100\n",
            "229/229 [==============================] - 3s 11ms/step - loss: 674.0878 - mae: 8.8083 - val_loss: 1793.8885 - val_mae: 14.7009 - lr: 0.0010\n",
            "Epoch 28/100\n",
            "229/229 [==============================] - 3s 11ms/step - loss: 654.2382 - mae: 8.4066 - val_loss: 1758.4799 - val_mae: 14.4391 - lr: 0.0010\n",
            "Epoch 29/100\n",
            "229/229 [==============================] - 3s 11ms/step - loss: 644.4716 - mae: 8.4372 - val_loss: 1656.6742 - val_mae: 13.1405 - lr: 0.0010\n",
            "Epoch 30/100\n",
            "229/229 [==============================] - 3s 11ms/step - loss: 637.4171 - mae: 8.2670 - val_loss: 1686.7212 - val_mae: 13.3661 - lr: 0.0010\n",
            "Epoch 31/100\n",
            "229/229 [==============================] - 3s 11ms/step - loss: 593.4406 - mae: 7.1178 - val_loss: 1660.7682 - val_mae: 12.6893 - lr: 2.0000e-04\n",
            "Epoch 32/100\n",
            "229/229 [==============================] - 3s 11ms/step - loss: 585.2438 - mae: 7.0430 - val_loss: 1648.9478 - val_mae: 12.7847 - lr: 2.0000e-04\n",
            "Epoch 33/100\n",
            "229/229 [==============================] - 3s 13ms/step - loss: 580.1498 - mae: 7.0199 - val_loss: 1656.7175 - val_mae: 12.5079 - lr: 2.0000e-04\n",
            "Epoch 34/100\n",
            "229/229 [==============================] - 3s 14ms/step - loss: 578.6860 - mae: 7.0071 - val_loss: 1688.5215 - val_mae: 12.9693 - lr: 2.0000e-04\n",
            "Epoch 35/100\n",
            "229/229 [==============================] - 3s 11ms/step - loss: 575.1462 - mae: 7.0339 - val_loss: 1679.2939 - val_mae: 13.3082 - lr: 2.0000e-04\n",
            "Epoch 36/100\n",
            "229/229 [==============================] - 3s 11ms/step - loss: 564.6266 - mae: 6.8115 - val_loss: 1680.2184 - val_mae: 12.9617 - lr: 4.0000e-05\n",
            "Epoch 37/100\n",
            "229/229 [==============================] - 3s 11ms/step - loss: 562.2683 - mae: 6.8287 - val_loss: 1681.7788 - val_mae: 13.0804 - lr: 4.0000e-05\n",
            "Epoch 38/100\n",
            "229/229 [==============================] - 3s 11ms/step - loss: 561.7481 - mae: 6.7717 - val_loss: 1682.4860 - val_mae: 12.9165 - lr: 4.0000e-05\n",
            "Epoch 39/100\n",
            "229/229 [==============================] - 3s 11ms/step - loss: 560.5179 - mae: 6.7979 - val_loss: 1678.4587 - val_mae: 12.9272 - lr: 4.0000e-05\n",
            "Epoch 40/100\n",
            "229/229 [==============================] - 3s 11ms/step - loss: 559.8575 - mae: 6.7909 - val_loss: 1690.5970 - val_mae: 13.1339 - lr: 4.0000e-05\n"
          ]
        }
      ]
    },
    {
      "cell_type": "code",
      "source": [
        "plt.plot(history.history['loss'])\n",
        "plt.plot(history.history['val_loss'])\n",
        "plt.ylabel('MSE')\n",
        "plt.xlabel('Epoch')\n",
        "plt.legend(['train', 'validation'], loc='upper left')\n",
        "plt.show()\n",
        "\n",
        "plt.plot(history.history['mae'])\n",
        "plt.plot(history.history['val_mae'])\n",
        "plt.ylabel('MAE')\n",
        "plt.xlabel('Epoch')\n",
        "plt.legend(['train', 'validation'], loc='upper left')\n",
        "plt.show()"
      ],
      "metadata": {
        "id": "Br62MeQXyWmA",
        "colab": {
          "base_uri": "https://localhost:8080/",
          "height": 541
        },
        "outputId": "fa23d8da-74c4-4ea1-ed0b-23d9f18d2e2c"
      },
      "execution_count": null,
      "outputs": [
        {
          "output_type": "display_data",
          "data": {
            "text/plain": [
              "<Figure size 432x288 with 1 Axes>"
            ],
            "image/png": "[encoded data removed]"
          },
          "metadata": {
            "needs_background": "light"
          }
        },
        {
          "output_type": "display_data",
          "data": {
            "text/plain": [
              "<Figure size 432x288 with 1 Axes>"
            ],
            "image/png": "[encoded data removed]"
          },
          "metadata": {
            "needs_background": "light"
          }
        }
      ]
    },
    {
      "cell_type": "code",
      "source": [
        "#### lstm 3 layer\n",
        "model6 = Sequential()\n",
        "model6.add(Input(input_shape))\n",
        "model6.add(normalizer)\n",
        "model6.add(LSTM(32, activation='tanh', return_sequences = True))\n",
        "model6.add(LSTM(32, activation='tanh', return_sequences = True))\n",
        "model6.add(LSTM(32, activation='tanh', return_sequences = False))\n",
        "model6.add(Dense(32, activation='relu'))\n",
        "model6.add(Dense(output_shape, activation='linear'))\n",
        "\n",
        "optim=tf.keras.optimizers.Adam(0.001)\n",
        "model6.compile(optimizer=optim, loss='mse', metrics=['mae'])\n",
        "model6.summary()"
      ],
      "metadata": {
        "id": "2AHLix6lyYGm",
        "colab": {
          "base_uri": "https://localhost:8080/"
        },
        "outputId": "f1caf418-81fa-41db-d4b9-b6b0b8908ad1"
      },
      "execution_count": null,
      "outputs": [
        {
          "output_type": "stream",
          "name": "stdout",
          "text": [
            "Model: \"sequential_5\"\n",
            "_________________________________________________________________\n",
            " Layer (type)                Output Shape              Param #   \n",
            "=================================================================\n",
            " normalization (Normalizatio  (None, 16, 5)            11        \n",
            " n)                                                              \n",
            "                                                                 \n",
            " lstm_3 (LSTM)               (None, 16, 32)            4864      \n",
            "                                                                 \n",
            " lstm_4 (LSTM)               (None, 16, 32)            8320      \n",
            "                                                                 \n",
            " lstm_5 (LSTM)               (None, 32)                8320      \n",
            "                                                                 \n",
            " dense_10 (Dense)            (None, 32)                1056      \n",
            "                                                                 \n",
            " dense_11 (Dense)            (None, 8)                 264       \n",
            "                                                                 \n",
            "=================================================================\n",
            "Total params: 22,835\n",
            "Trainable params: 22,824\n",
            "Non-trainable params: 11\n",
            "_________________________________________________________________\n"
          ]
        }
      ]
    },
    {
      "cell_type": "code",
      "source": [
        "history = model6.fit(X_train, y_train, validation_split=0.1, epochs=n_epochs, verbose=1, callbacks=[reduce_lr, es])"
      ],
      "metadata": {
        "id": "sAAnwC3fzRJN",
        "colab": {
          "base_uri": "https://localhost:8080/"
        },
        "outputId": "5d12c791-7d47-43bb-df93-564e57cfac6f"
      },
      "execution_count": null,
      "outputs": [
        {
          "output_type": "stream",
          "name": "stdout",
          "text": [
            "Epoch 1/100\n",
            "229/229 [==============================] - 10s 22ms/step - loss: 259422.2812 - mae: 363.7775 - val_loss: 133722.8906 - val_mae: 269.1364 - lr: 0.0010\n",
            "Epoch 2/100\n",
            "229/229 [==============================] - 4s 16ms/step - loss: 205995.6562 - mae: 319.2544 - val_loss: 89800.4219 - val_mae: 263.8625 - lr: 0.0010\n",
            "Epoch 3/100\n",
            "229/229 [==============================] - 4s 16ms/step - loss: 136303.4688 - mae: 242.5274 - val_loss: 50287.1523 - val_mae: 176.4073 - lr: 0.0010\n",
            "Epoch 4/100\n",
            "229/229 [==============================] - 4s 17ms/step - loss: 82385.3594 - mae: 162.5822 - val_loss: 23998.8359 - val_mae: 99.6489 - lr: 0.0010\n",
            "Epoch 5/100\n",
            "229/229 [==============================] - 4s 16ms/step - loss: 47357.3906 - mae: 101.8312 - val_loss: 14493.1582 - val_mae: 63.9148 - lr: 0.0010\n",
            "Epoch 6/100\n",
            "229/229 [==============================] - 4s 16ms/step - loss: 27365.5020 - mae: 65.5199 - val_loss: 11113.6484 - val_mae: 50.2674 - lr: 0.0010\n",
            "Epoch 7/100\n",
            "229/229 [==============================] - 4s 16ms/step - loss: 18093.5723 - mae: 53.8930 - val_loss: 10676.0615 - val_mae: 48.6533 - lr: 0.0010\n",
            "Epoch 8/100\n",
            "229/229 [==============================] - 4s 16ms/step - loss: 13229.7217 - mae: 46.6292 - val_loss: 9658.0137 - val_mae: 46.8279 - lr: 0.0010\n",
            "Epoch 9/100\n",
            "229/229 [==============================] - 4s 16ms/step - loss: 10215.9111 - mae: 42.1114 - val_loss: 8810.0039 - val_mae: 50.3142 - lr: 0.0010\n",
            "Epoch 10/100\n",
            "229/229 [==============================] - 4s 16ms/step - loss: 7947.5356 - mae: 37.2858 - val_loss: 6429.5894 - val_mae: 37.5967 - lr: 0.0010\n",
            "Epoch 11/100\n",
            "229/229 [==============================] - 4s 17ms/step - loss: 5939.7373 - mae: 32.7287 - val_loss: 6400.6948 - val_mae: 34.3087 - lr: 0.0010\n",
            "Epoch 12/100\n",
            "229/229 [==============================] - 4s 16ms/step - loss: 4176.3438 - mae: 27.2491 - val_loss: 4929.3765 - val_mae: 28.8266 - lr: 0.0010\n",
            "Epoch 13/100\n",
            "229/229 [==============================] - 4s 16ms/step - loss: 3232.4500 - mae: 24.7107 - val_loss: 3963.6812 - val_mae: 26.6055 - lr: 0.0010\n",
            "Epoch 14/100\n",
            "229/229 [==============================] - 4s 16ms/step - loss: 2484.6504 - mae: 22.0642 - val_loss: 6294.2563 - val_mae: 61.5826 - lr: 0.0010\n",
            "Epoch 15/100\n",
            "229/229 [==============================] - 4s 17ms/step - loss: 2185.2043 - mae: 24.6557 - val_loss: 5093.4556 - val_mae: 33.9299 - lr: 0.0010\n",
            "Epoch 16/100\n",
            "229/229 [==============================] - 4s 17ms/step - loss: 1476.8037 - mae: 16.6731 - val_loss: 4295.6172 - val_mae: 28.9569 - lr: 0.0010\n",
            "Epoch 17/100\n",
            "229/229 [==============================] - 4s 16ms/step - loss: 1263.1837 - mae: 14.5300 - val_loss: 3569.6885 - val_mae: 28.8260 - lr: 0.0010\n",
            "Epoch 18/100\n",
            "229/229 [==============================] - 4s 16ms/step - loss: 1150.8416 - mae: 13.8701 - val_loss: 3003.0569 - val_mae: 23.8984 - lr: 0.0010\n",
            "Epoch 19/100\n",
            "229/229 [==============================] - 4s 16ms/step - loss: 1042.6602 - mae: 13.0610 - val_loss: 3791.7749 - val_mae: 27.3157 - lr: 0.0010\n",
            "Epoch 20/100\n",
            "229/229 [==============================] - 4s 16ms/step - loss: 969.1619 - mae: 12.1689 - val_loss: 3081.5806 - val_mae: 27.0175 - lr: 0.0010\n",
            "Epoch 21/100\n",
            "229/229 [==============================] - 4s 16ms/step - loss: 916.0378 - mae: 11.5918 - val_loss: 3119.6277 - val_mae: 26.8319 - lr: 0.0010\n",
            "Epoch 22/100\n",
            "229/229 [==============================] - 4s 16ms/step - loss: 869.3681 - mae: 11.2730 - val_loss: 2951.0698 - val_mae: 23.7718 - lr: 0.0010\n",
            "Epoch 23/100\n",
            "229/229 [==============================] - 4s 16ms/step - loss: 842.2261 - mae: 11.1195 - val_loss: 2315.5627 - val_mae: 20.7786 - lr: 0.0010\n",
            "Epoch 24/100\n",
            "229/229 [==============================] - 4s 16ms/step - loss: 805.6413 - mae: 10.6613 - val_loss: 2112.2920 - val_mae: 21.2508 - lr: 0.0010\n",
            "Epoch 25/100\n",
            "229/229 [==============================] - 4s 16ms/step - loss: 776.9905 - mae: 10.4951 - val_loss: 2376.7883 - val_mae: 23.9928 - lr: 0.0010\n",
            "Epoch 26/100\n",
            "229/229 [==============================] - 4s 17ms/step - loss: 759.9296 - mae: 10.1547 - val_loss: 2305.8535 - val_mae: 22.7880 - lr: 0.0010\n",
            "Epoch 27/100\n",
            "229/229 [==============================] - 4s 16ms/step - loss: 718.7087 - mae: 9.4737 - val_loss: 1987.1138 - val_mae: 20.7447 - lr: 0.0010\n",
            "Epoch 28/100\n",
            "229/229 [==============================] - 4s 16ms/step - loss: 740.4814 - mae: 10.3281 - val_loss: 1920.8473 - val_mae: 20.4543 - lr: 0.0010\n",
            "Epoch 29/100\n",
            "229/229 [==============================] - 4s 17ms/step - loss: 714.0078 - mae: 9.7746 - val_loss: 1644.2524 - val_mae: 17.4263 - lr: 0.0010\n",
            "Epoch 30/100\n",
            "229/229 [==============================] - 4s 17ms/step - loss: 691.5209 - mae: 9.2643 - val_loss: 1745.9083 - val_mae: 16.5757 - lr: 0.0010\n",
            "Epoch 31/100\n",
            "229/229 [==============================] - 4s 16ms/step - loss: 702.4688 - mae: 9.5594 - val_loss: 1539.4921 - val_mae: 16.3876 - lr: 0.0010\n",
            "Epoch 32/100\n",
            "229/229 [==============================] - 4s 16ms/step - loss: 681.4796 - mae: 9.0308 - val_loss: 1626.9821 - val_mae: 17.5388 - lr: 0.0010\n",
            "Epoch 33/100\n",
            "229/229 [==============================] - 4s 16ms/step - loss: 682.5461 - mae: 9.5178 - val_loss: 1588.9741 - val_mae: 17.0383 - lr: 0.0010\n",
            "Epoch 34/100\n",
            "229/229 [==============================] - 4s 16ms/step - loss: 691.7230 - mae: 9.7685 - val_loss: 1669.5612 - val_mae: 19.8795 - lr: 0.0010\n",
            "Epoch 35/100\n",
            "229/229 [==============================] - 4s 16ms/step - loss: 682.6704 - mae: 9.4636 - val_loss: 1512.2374 - val_mae: 13.4424 - lr: 0.0010\n",
            "Epoch 36/100\n",
            "229/229 [==============================] - 4s 16ms/step - loss: 635.4767 - mae: 8.5827 - val_loss: 1452.7690 - val_mae: 16.1635 - lr: 0.0010\n",
            "Epoch 37/100\n",
            "229/229 [==============================] - 4s 17ms/step - loss: 624.9846 - mae: 8.4291 - val_loss: 1528.1494 - val_mae: 17.8416 - lr: 0.0010\n",
            "Epoch 38/100\n",
            "229/229 [==============================] - 4s 16ms/step - loss: 635.4080 - mae: 8.8556 - val_loss: 1561.0789 - val_mae: 16.7962 - lr: 0.0010\n",
            "Epoch 39/100\n",
            "229/229 [==============================] - 4s 17ms/step - loss: 647.3947 - mae: 8.9527 - val_loss: 1391.2015 - val_mae: 13.8751 - lr: 0.0010\n",
            "Epoch 40/100\n",
            "229/229 [==============================] - 4s 16ms/step - loss: 638.2487 - mae: 8.7744 - val_loss: 1596.9802 - val_mae: 15.9337 - lr: 0.0010\n",
            "Epoch 41/100\n",
            "229/229 [==============================] - 4s 16ms/step - loss: 614.4778 - mae: 8.4006 - val_loss: 1611.6404 - val_mae: 16.7059 - lr: 0.0010\n",
            "Epoch 42/100\n",
            "229/229 [==============================] - 4s 16ms/step - loss: 618.5004 - mae: 8.4941 - val_loss: 1473.2478 - val_mae: 14.8196 - lr: 0.0010\n",
            "Epoch 43/100\n",
            "229/229 [==============================] - 4s 17ms/step - loss: 679.4585 - mae: 9.1169 - val_loss: 1304.2009 - val_mae: 10.6037 - lr: 0.0010\n",
            "Epoch 44/100\n",
            "229/229 [==============================] - 4s 16ms/step - loss: 615.1683 - mae: 8.2547 - val_loss: 1472.6027 - val_mae: 18.2908 - lr: 0.0010\n",
            "Epoch 45/100\n",
            "229/229 [==============================] - 4s 16ms/step - loss: 606.8460 - mae: 8.1799 - val_loss: 1330.6639 - val_mae: 16.1253 - lr: 0.0010\n",
            "Epoch 46/100\n",
            "229/229 [==============================] - 4s 16ms/step - loss: 589.1606 - mae: 8.0177 - val_loss: 1350.5811 - val_mae: 16.6109 - lr: 0.0010\n",
            "Epoch 47/100\n",
            "229/229 [==============================] - 4s 16ms/step - loss: 588.2050 - mae: 8.2739 - val_loss: 1376.5795 - val_mae: 15.6015 - lr: 0.0010\n",
            "Epoch 48/100\n",
            "229/229 [==============================] - 4s 16ms/step - loss: 631.6971 - mae: 8.6451 - val_loss: 1584.2217 - val_mae: 23.3992 - lr: 0.0010\n",
            "Epoch 49/100\n",
            "229/229 [==============================] - 4s 17ms/step - loss: 586.7316 - mae: 7.0776 - val_loss: 1380.4537 - val_mae: 17.1004 - lr: 2.0000e-04\n",
            "Epoch 50/100\n",
            "229/229 [==============================] - 4s 16ms/step - loss: 548.2803 - mae: 6.7674 - val_loss: 1358.3300 - val_mae: 15.7171 - lr: 2.0000e-04\n",
            "Epoch 51/100\n",
            "229/229 [==============================] - 4s 16ms/step - loss: 530.7048 - mae: 6.6567 - val_loss: 1347.4299 - val_mae: 15.2915 - lr: 2.0000e-04\n",
            "Epoch 52/100\n",
            "229/229 [==============================] - 4s 16ms/step - loss: 523.6677 - mae: 6.7566 - val_loss: 1425.2869 - val_mae: 17.6231 - lr: 2.0000e-04\n",
            "Epoch 53/100\n",
            "229/229 [==============================] - 4s 17ms/step - loss: 522.5769 - mae: 6.7255 - val_loss: 1450.7980 - val_mae: 18.0931 - lr: 2.0000e-04\n",
            "Epoch 54/100\n",
            "229/229 [==============================] - 4s 17ms/step - loss: 509.4841 - mae: 6.4003 - val_loss: 1462.8859 - val_mae: 18.6828 - lr: 4.0000e-05\n",
            "Epoch 55/100\n",
            "229/229 [==============================] - 4s 16ms/step - loss: 503.3736 - mae: 6.3908 - val_loss: 1482.6084 - val_mae: 19.5663 - lr: 4.0000e-05\n",
            "Epoch 56/100\n",
            "229/229 [==============================] - 4s 16ms/step - loss: 503.3684 - mae: 6.3759 - val_loss: 1483.4437 - val_mae: 19.5124 - lr: 4.0000e-05\n",
            "Epoch 57/100\n",
            "229/229 [==============================] - 4s 17ms/step - loss: 501.4887 - mae: 6.3555 - val_loss: 1483.5740 - val_mae: 19.4937 - lr: 4.0000e-05\n",
            "Epoch 58/100\n",
            "229/229 [==============================] - 4s 16ms/step - loss: 500.7007 - mae: 6.3291 - val_loss: 1513.4965 - val_mae: 20.3591 - lr: 4.0000e-05\n"
          ]
        }
      ]
    },
    {
      "cell_type": "code",
      "source": [
        "plt.plot(history.history['loss'])\n",
        "plt.plot(history.history['val_loss'])\n",
        "plt.ylabel('MSE')\n",
        "plt.xlabel('Epoch')\n",
        "plt.legend(['train', 'validation'], loc='upper left')\n",
        "plt.show()\n",
        "\n",
        "plt.plot(history.history['mae'])\n",
        "plt.plot(history.history['val_mae'])\n",
        "plt.ylabel('MAE')\n",
        "plt.xlabel('Epoch')\n",
        "plt.legend(['train', 'validation'], loc='upper left')\n",
        "plt.show()"
      ],
      "metadata": {
        "id": "kkfWCovrzTkn",
        "colab": {
          "base_uri": "https://localhost:8080/",
          "height": 541
        },
        "outputId": "b16ddb0c-3810-4c72-c126-cb3c7fd9f3ba"
      },
      "execution_count": null,
      "outputs": [
        {
          "output_type": "display_data",
          "data": {
            "text/plain": [
              "<Figure size 432x288 with 1 Axes>"
            ],
            "image/png": "[encoded data removed]"
          },
          "metadata": {
            "needs_background": "light"
          }
        },
        {
          "output_type": "display_data",
          "data": {
            "text/plain": [
              "<Figure size 432x288 with 1 Axes>"
            ],
            "image/png": "[encoded data removed]"
          },
          "metadata": {
            "needs_background": "light"
          }
        }
      ]
    },
    {
      "cell_type": "code",
      "source": [
        "#### bi-lstm 1 layer\n",
        "model7 = Sequential()\n",
        "model7.add(Input(input_shape))\n",
        "model7.add(normalizer)\n",
        "model7.add(Bidirectional(LSTM(32, activation='tanh', return_sequences = False)))\n",
        "model7.add(Dense(32, activation='relu'))\n",
        "model7.add(Dense(output_shape, activation='linear'))\n",
        "\n",
        "optim=tf.keras.optimizers.Adam(0.001)\n",
        "model7.compile(optimizer=optim, loss='mse', metrics=['mae'])\n",
        "model7.summary()"
      ],
      "metadata": {
        "id": "CoeKrM22zkld",
        "colab": {
          "base_uri": "https://localhost:8080/"
        },
        "outputId": "9e90cf19-3d7d-4881-d6da-f13e6b0cf8a2"
      },
      "execution_count": null,
      "outputs": [
        {
          "output_type": "stream",
          "name": "stdout",
          "text": [
            "Model: \"sequential_6\"\n",
            "_________________________________________________________________\n",
            " Layer (type)                Output Shape              Param #   \n",
            "=================================================================\n",
            " normalization (Normalizatio  (None, 16, 5)            11        \n",
            " n)                                                              \n",
            "                                                                 \n",
            " bidirectional (Bidirectiona  (None, 64)               9728      \n",
            " l)                                                              \n",
            "                                                                 \n",
            " dense_12 (Dense)            (None, 32)                2080      \n",
            "                                                                 \n",
            " dense_13 (Dense)            (None, 8)                 264       \n",
            "                                                                 \n",
            "=================================================================\n",
            "Total params: 12,083\n",
            "Trainable params: 12,072\n",
            "Non-trainable params: 11\n",
            "_________________________________________________________________\n"
          ]
        }
      ]
    },
    {
      "cell_type": "code",
      "source": [
        "history = model7.fit(X_train, y_train, validation_split=0.1, epochs=n_epochs, verbose=1, callbacks=[reduce_lr, es])"
      ],
      "metadata": {
        "id": "0sPV323p0z6T",
        "colab": {
          "base_uri": "https://localhost:8080/"
        },
        "outputId": "58e1caf5-c5fb-4e15-f4a0-d67d85852c9a"
      },
      "execution_count": null,
      "outputs": [
        {
          "output_type": "stream",
          "name": "stdout",
          "text": [
            "Epoch 1/100\n",
            "229/229 [==============================] - 7s 15ms/step - loss: 229805.6875 - mae: 344.4065 - val_loss: 71623.8203 - val_mae: 230.6377 - lr: 0.0010\n",
            "Epoch 2/100\n",
            "229/229 [==============================] - 2s 11ms/step - loss: 104528.5000 - mae: 215.7192 - val_loss: 20518.5918 - val_mae: 122.5070 - lr: 0.0010\n",
            "Epoch 3/100\n",
            "229/229 [==============================] - 2s 11ms/step - loss: 57477.1289 - mae: 153.5479 - val_loss: 15956.7217 - val_mae: 111.0983 - lr: 0.0010\n",
            "Epoch 4/100\n",
            "229/229 [==============================] - 2s 11ms/step - loss: 26990.6953 - mae: 104.3147 - val_loss: 13334.4473 - val_mae: 99.4680 - lr: 0.0010\n",
            "Epoch 5/100\n",
            "229/229 [==============================] - 2s 11ms/step - loss: 16182.5068 - mae: 79.1608 - val_loss: 10571.1836 - val_mae: 82.1131 - lr: 0.0010\n",
            "Epoch 6/100\n",
            "229/229 [==============================] - 2s 11ms/step - loss: 8562.7383 - mae: 47.7517 - val_loss: 5829.6592 - val_mae: 45.7191 - lr: 0.0010\n",
            "Epoch 7/100\n",
            "229/229 [==============================] - 2s 11ms/step - loss: 4485.0835 - mae: 27.7174 - val_loss: 3843.8450 - val_mae: 31.8987 - lr: 0.0010\n",
            "Epoch 8/100\n",
            "229/229 [==============================] - 2s 11ms/step - loss: 2666.6577 - mae: 20.3549 - val_loss: 2745.3120 - val_mae: 25.1870 - lr: 0.0010\n",
            "Epoch 9/100\n",
            "229/229 [==============================] - 2s 11ms/step - loss: 1960.2286 - mae: 17.8918 - val_loss: 2179.6560 - val_mae: 20.4971 - lr: 0.0010\n",
            "Epoch 10/100\n",
            "229/229 [==============================] - 2s 11ms/step - loss: 1588.4691 - mae: 15.8678 - val_loss: 2028.1996 - val_mae: 22.6390 - lr: 0.0010\n",
            "Epoch 11/100\n",
            "229/229 [==============================] - 2s 11ms/step - loss: 1330.4082 - mae: 14.0416 - val_loss: 2345.9136 - val_mae: 25.3308 - lr: 0.0010\n",
            "Epoch 12/100\n",
            "229/229 [==============================] - 2s 11ms/step - loss: 1181.4344 - mae: 13.0685 - val_loss: 2255.9033 - val_mae: 24.8174 - lr: 0.0010\n",
            "Epoch 13/100\n",
            "229/229 [==============================] - 2s 11ms/step - loss: 1100.7675 - mae: 12.3054 - val_loss: 2265.9243 - val_mae: 23.7918 - lr: 0.0010\n",
            "Epoch 14/100\n",
            "229/229 [==============================] - 2s 11ms/step - loss: 1025.9144 - mae: 11.6538 - val_loss: 2874.7012 - val_mae: 27.0256 - lr: 0.0010\n",
            "Epoch 15/100\n",
            "229/229 [==============================] - 2s 11ms/step - loss: 948.1830 - mae: 10.9376 - val_loss: 2182.5837 - val_mae: 23.6737 - lr: 0.0010\n",
            "Epoch 16/100\n",
            "229/229 [==============================] - 2s 11ms/step - loss: 876.6084 - mae: 9.8105 - val_loss: 2195.0352 - val_mae: 23.5128 - lr: 2.0000e-04\n",
            "Epoch 17/100\n",
            "229/229 [==============================] - 2s 11ms/step - loss: 853.9405 - mae: 9.4860 - val_loss: 2168.5959 - val_mae: 23.5450 - lr: 2.0000e-04\n",
            "Epoch 18/100\n",
            "229/229 [==============================] - 2s 11ms/step - loss: 837.7942 - mae: 9.4628 - val_loss: 2087.6577 - val_mae: 23.1549 - lr: 2.0000e-04\n",
            "Epoch 19/100\n",
            "229/229 [==============================] - 2s 11ms/step - loss: 825.1249 - mae: 9.3014 - val_loss: 2159.8762 - val_mae: 23.7678 - lr: 2.0000e-04\n",
            "Epoch 20/100\n",
            "229/229 [==============================] - 2s 11ms/step - loss: 810.7245 - mae: 9.1930 - val_loss: 2234.3188 - val_mae: 24.4732 - lr: 2.0000e-04\n",
            "Epoch 21/100\n",
            "229/229 [==============================] - 2s 11ms/step - loss: 796.5417 - mae: 8.9586 - val_loss: 2194.8489 - val_mae: 24.1223 - lr: 4.0000e-05\n",
            "Epoch 22/100\n",
            "229/229 [==============================] - 2s 11ms/step - loss: 793.2239 - mae: 8.9535 - val_loss: 2180.2864 - val_mae: 23.8066 - lr: 4.0000e-05\n",
            "Epoch 23/100\n",
            "229/229 [==============================] - 3s 11ms/step - loss: 790.1854 - mae: 8.8828 - val_loss: 2195.4810 - val_mae: 23.9870 - lr: 4.0000e-05\n",
            "Epoch 24/100\n",
            "229/229 [==============================] - 2s 11ms/step - loss: 788.0781 - mae: 8.8687 - val_loss: 2200.4556 - val_mae: 24.1744 - lr: 4.0000e-05\n",
            "Epoch 25/100\n",
            "229/229 [==============================] - 2s 11ms/step - loss: 785.3189 - mae: 8.8499 - val_loss: 2205.8562 - val_mae: 24.1261 - lr: 4.0000e-05\n"
          ]
        }
      ]
    },
    {
      "cell_type": "code",
      "source": [
        "plt.plot(history.history['loss'])\n",
        "plt.plot(history.history['val_loss'])\n",
        "plt.ylabel('MSE')\n",
        "plt.xlabel('Epoch')\n",
        "plt.legend(['train', 'validation'], loc='upper left')\n",
        "plt.show()\n",
        "\n",
        "plt.plot(history.history['mae'])\n",
        "plt.plot(history.history['val_mae'])\n",
        "plt.ylabel('MAE')\n",
        "plt.xlabel('Epoch')\n",
        "plt.legend(['train', 'validation'], loc='upper left')\n",
        "plt.show()"
      ],
      "metadata": {
        "id": "ukBih6aa07Uw",
        "colab": {
          "base_uri": "https://localhost:8080/",
          "height": 541
        },
        "outputId": "61005ed9-0b57-4d98-aec6-0498642c3b46"
      },
      "execution_count": null,
      "outputs": [
        {
          "output_type": "display_data",
          "data": {
            "text/plain": [
              "<Figure size 432x288 with 1 Axes>"
            ],
            "image/png": "[encoded data removed]"
          },
          "metadata": {
            "needs_background": "light"
          }
        },
        {
          "output_type": "display_data",
          "data": {
            "text/plain": [
              "<Figure size 432x288 with 1 Axes>"
            ],
            "image/png": "[encoded data removed]"
          },
          "metadata": {
            "needs_background": "light"
          }
        }
      ]
    },
    {
      "cell_type": "code",
      "source": [
        "#### bi-lstm 2 layer\n",
        "model8 = Sequential()\n",
        "model8.add(Input(input_shape))\n",
        "model8.add(normalizer)\n",
        "model8.add(Bidirectional(LSTM(32, activation='tanh', return_sequences = True)))\n",
        "\n",
        "model8.add(Bidirectional(LSTM(32, activation='tanh', return_sequences = False)))\n",
        "model8.add(Dense(32, activation='relu'))\n",
        "model8.add(Dense(output_shape, activation='linear'))\n",
        "\n",
        "optim=tf.keras.optimizers.Adam(0.001)\n",
        "model8.compile(optimizer=optim, loss='mse', metrics=['mae'])\n",
        "model8.summary()"
      ],
      "metadata": {
        "id": "Fta1J6Zv0XVH",
        "colab": {
          "base_uri": "https://localhost:8080/"
        },
        "outputId": "d7382880-1d6e-415f-d769-1515a3ff01d8"
      },
      "execution_count": null,
      "outputs": [
        {
          "output_type": "stream",
          "name": "stdout",
          "text": [
            "Model: \"sequential_7\"\n",
            "_________________________________________________________________\n",
            " Layer (type)                Output Shape              Param #   \n",
            "=================================================================\n",
            " normalization (Normalizatio  (None, 16, 5)            11        \n",
            " n)                                                              \n",
            "                                                                 \n",
            " bidirectional_1 (Bidirectio  (None, 16, 64)           9728      \n",
            " nal)                                                            \n",
            "                                                                 \n",
            " bidirectional_2 (Bidirectio  (None, 64)               24832     \n",
            " nal)                                                            \n",
            "                                                                 \n",
            " dense_14 (Dense)            (None, 32)                2080      \n",
            "                                                                 \n",
            " dense_15 (Dense)            (None, 8)                 264       \n",
            "                                                                 \n",
            "=================================================================\n",
            "Total params: 36,915\n",
            "Trainable params: 36,904\n",
            "Non-trainable params: 11\n",
            "_________________________________________________________________\n"
          ]
        }
      ]
    },
    {
      "cell_type": "code",
      "source": [
        "history = model8.fit(X_train, y_train, validation_split=0.1, epochs=n_epochs, verbose=1, callbacks=[reduce_lr, es])"
      ],
      "metadata": {
        "id": "rEdGykyj017q",
        "colab": {
          "base_uri": "https://localhost:8080/"
        },
        "outputId": "c459cf34-3c3f-4e0b-f4ee-e44ebe8e79a9"
      },
      "execution_count": null,
      "outputs": [
        {
          "output_type": "stream",
          "name": "stdout",
          "text": [
            "Epoch 1/100\n",
            "229/229 [==============================] - 13s 28ms/step - loss: 231688.5938 - mae: 347.3055 - val_loss: 79649.5469 - val_mae: 240.7671 - lr: 0.0010\n",
            "Epoch 2/100\n",
            "229/229 [==============================] - 5s 21ms/step - loss: 113243.0000 - mae: 227.4581 - val_loss: 21461.5625 - val_mae: 118.3377 - lr: 0.0010\n",
            "Epoch 3/100\n",
            "229/229 [==============================] - 5s 21ms/step - loss: 74885.1250 - mae: 196.2563 - val_loss: 19256.2715 - val_mae: 126.2393 - lr: 0.0010\n",
            "Epoch 4/100\n",
            "229/229 [==============================] - 5s 21ms/step - loss: 43445.7344 - mae: 129.9452 - val_loss: 13917.4512 - val_mae: 98.5590 - lr: 0.0010\n",
            "Epoch 5/100\n",
            "229/229 [==============================] - 5s 21ms/step - loss: 22529.7578 - mae: 97.9444 - val_loss: 10999.3857 - val_mae: 87.2294 - lr: 0.0010\n",
            "Epoch 6/100\n",
            "229/229 [==============================] - 5s 21ms/step - loss: 13503.6768 - mae: 72.0897 - val_loss: 6657.6040 - val_mae: 63.4359 - lr: 0.0010\n",
            "Epoch 7/100\n",
            "229/229 [==============================] - 5s 21ms/step - loss: 7113.7651 - mae: 42.3470 - val_loss: 7618.8765 - val_mae: 63.8030 - lr: 0.0010\n",
            "Epoch 8/100\n",
            "229/229 [==============================] - 5s 21ms/step - loss: 4308.7056 - mae: 26.5158 - val_loss: 3102.2319 - val_mae: 33.8365 - lr: 0.0010\n",
            "Epoch 9/100\n",
            "229/229 [==============================] - 5s 21ms/step - loss: 2700.5654 - mae: 20.0512 - val_loss: 2752.0139 - val_mae: 30.9357 - lr: 0.0010\n",
            "Epoch 10/100\n",
            "229/229 [==============================] - 5s 21ms/step - loss: 1848.5402 - mae: 15.8904 - val_loss: 2547.8794 - val_mae: 29.5921 - lr: 0.0010\n",
            "Epoch 11/100\n",
            "229/229 [==============================] - 5s 21ms/step - loss: 1457.3895 - mae: 13.6285 - val_loss: 2087.6843 - val_mae: 27.0356 - lr: 0.0010\n",
            "Epoch 12/100\n",
            "229/229 [==============================] - 5s 21ms/step - loss: 1265.2061 - mae: 12.4888 - val_loss: 1784.2504 - val_mae: 22.5163 - lr: 0.0010\n",
            "Epoch 13/100\n",
            "229/229 [==============================] - 5s 21ms/step - loss: 1405.1898 - mae: 13.4494 - val_loss: 2503.2185 - val_mae: 23.1867 - lr: 0.0010\n",
            "Epoch 14/100\n",
            "229/229 [==============================] - 5s 21ms/step - loss: 1184.0355 - mae: 11.8856 - val_loss: 1633.4530 - val_mae: 18.4711 - lr: 0.0010\n",
            "Epoch 15/100\n",
            "229/229 [==============================] - 5s 21ms/step - loss: 982.5092 - mae: 10.2981 - val_loss: 1704.0203 - val_mae: 20.7285 - lr: 0.0010\n",
            "Epoch 16/100\n",
            "229/229 [==============================] - 5s 21ms/step - loss: 931.6472 - mae: 10.1341 - val_loss: 1595.8656 - val_mae: 19.9559 - lr: 0.0010\n",
            "Epoch 17/100\n",
            "229/229 [==============================] - 5s 21ms/step - loss: 906.3655 - mae: 10.0129 - val_loss: 1521.8438 - val_mae: 19.0367 - lr: 0.0010\n",
            "Epoch 18/100\n",
            "229/229 [==============================] - 5s 21ms/step - loss: 862.6857 - mae: 9.6619 - val_loss: 1677.3213 - val_mae: 22.0243 - lr: 0.0010\n",
            "Epoch 19/100\n",
            "229/229 [==============================] - 5s 21ms/step - loss: 811.7759 - mae: 8.6606 - val_loss: 1593.3964 - val_mae: 21.9563 - lr: 0.0010\n",
            "Epoch 20/100\n",
            "229/229 [==============================] - 5s 21ms/step - loss: 798.3784 - mae: 8.9015 - val_loss: 1575.4844 - val_mae: 19.6345 - lr: 0.0010\n",
            "Epoch 21/100\n",
            "229/229 [==============================] - 5s 21ms/step - loss: 764.2372 - mae: 8.4762 - val_loss: 1901.2626 - val_mae: 26.7407 - lr: 0.0010\n",
            "Epoch 22/100\n",
            "229/229 [==============================] - 5s 21ms/step - loss: 760.5042 - mae: 8.3928 - val_loss: 1830.8523 - val_mae: 25.5594 - lr: 0.0010\n",
            "Epoch 23/100\n",
            "229/229 [==============================] - 5s 21ms/step - loss: 705.2527 - mae: 7.3087 - val_loss: 1646.0070 - val_mae: 22.9026 - lr: 2.0000e-04\n",
            "Epoch 24/100\n",
            "229/229 [==============================] - 5s 21ms/step - loss: 693.2654 - mae: 7.1271 - val_loss: 1729.8654 - val_mae: 23.3915 - lr: 2.0000e-04\n",
            "Epoch 25/100\n",
            "229/229 [==============================] - 5s 21ms/step - loss: 689.7863 - mae: 7.1478 - val_loss: 1768.0310 - val_mae: 23.0259 - lr: 2.0000e-04\n",
            "Epoch 26/100\n",
            "229/229 [==============================] - 5s 21ms/step - loss: 684.3099 - mae: 7.0970 - val_loss: 1744.6707 - val_mae: 22.9313 - lr: 2.0000e-04\n",
            "Epoch 27/100\n",
            "229/229 [==============================] - 5s 21ms/step - loss: 679.0690 - mae: 7.0946 - val_loss: 1782.8452 - val_mae: 23.5918 - lr: 2.0000e-04\n",
            "Epoch 28/100\n",
            "229/229 [==============================] - 5s 21ms/step - loss: 670.0103 - mae: 6.8260 - val_loss: 1761.6788 - val_mae: 23.2559 - lr: 4.0000e-05\n",
            "Epoch 29/100\n",
            "229/229 [==============================] - 5s 21ms/step - loss: 667.8810 - mae: 6.8275 - val_loss: 1756.6262 - val_mae: 23.1691 - lr: 4.0000e-05\n",
            "Epoch 30/100\n",
            "229/229 [==============================] - 5s 21ms/step - loss: 667.2079 - mae: 6.8164 - val_loss: 1773.2188 - val_mae: 23.5219 - lr: 4.0000e-05\n",
            "Epoch 31/100\n",
            "229/229 [==============================] - 5s 21ms/step - loss: 665.9562 - mae: 6.7983 - val_loss: 1740.1288 - val_mae: 23.2639 - lr: 4.0000e-05\n",
            "Epoch 32/100\n",
            "229/229 [==============================] - 5s 21ms/step - loss: 664.7800 - mae: 6.8155 - val_loss: 1753.9261 - val_mae: 23.4568 - lr: 4.0000e-05\n"
          ]
        }
      ]
    },
    {
      "cell_type": "code",
      "source": [
        "plt.plot(history.history['loss'])\n",
        "plt.plot(history.history['val_loss'])\n",
        "plt.ylabel('MSE')\n",
        "plt.xlabel('Epoch')\n",
        "plt.legend(['train', 'validation'], loc='upper left')\n",
        "plt.show()\n",
        "\n",
        "plt.plot(history.history['mae'])\n",
        "plt.plot(history.history['val_mae'])\n",
        "plt.ylabel('MAE')\n",
        "plt.xlabel('Epoch')\n",
        "plt.legend(['train', 'validation'], loc='upper left')\n",
        "plt.show()"
      ],
      "metadata": {
        "id": "YAg4q8Wk08XM",
        "colab": {
          "base_uri": "https://localhost:8080/",
          "height": 541
        },
        "outputId": "4758bcff-1b27-453b-ba12-d6ae587a7e43"
      },
      "execution_count": null,
      "outputs": [
        {
          "output_type": "display_data",
          "data": {
            "text/plain": [
              "<Figure size 432x288 with 1 Axes>"
            ],
            "image/png": "[encoded data removed]"
          },
          "metadata": {
            "needs_background": "light"
          }
        },
        {
          "output_type": "display_data",
          "data": {
            "text/plain": [
              "<Figure size 432x288 with 1 Axes>"
            ],
            "image/png": "[encoded data removed]"
          },
          "metadata": {
            "needs_background": "light"
          }
        }
      ]
    },
    {
      "cell_type": "code",
      "source": [
        "#### bi-lstm 3 layer\n",
        "model9 = Sequential()\n",
        "model9.add(Input(input_shape))\n",
        "model9.add(normalizer)\n",
        "model9.add(Bidirectional(LSTM(32, activation='tanh', return_sequences = True)))\n",
        "model9.add(Bidirectional(LSTM(32, activation='tanh', return_sequences = True)))\n",
        "\n",
        "model9.add(Bidirectional(LSTM(32, activation='tanh', return_sequences = False)))\n",
        "model9.add(Dense(32, activation='relu'))\n",
        "model9.add(Dense(output_shape, activation='linear'))\n",
        "\n",
        "optim=tf.keras.optimizers.Adam(0.001)\n",
        "model9.compile(optimizer=optim, loss='mse', metrics=['mae'])\n",
        "model9.summary()"
      ],
      "metadata": {
        "id": "e9pGyeZ_0YTJ",
        "colab": {
          "base_uri": "https://localhost:8080/"
        },
        "outputId": "ee61a799-9743-40d1-c6d7-e45b8b5920b1"
      },
      "execution_count": null,
      "outputs": [
        {
          "output_type": "stream",
          "name": "stdout",
          "text": [
            "Model: \"sequential_8\"\n",
            "_________________________________________________________________\n",
            " Layer (type)                Output Shape              Param #   \n",
            "=================================================================\n",
            " normalization (Normalizatio  (None, 16, 5)            11        \n",
            " n)                                                              \n",
            "                                                                 \n",
            " bidirectional_3 (Bidirectio  (None, 16, 64)           9728      \n",
            " nal)                                                            \n",
            "                                                                 \n",
            " bidirectional_4 (Bidirectio  (None, 16, 64)           24832     \n",
            " nal)                                                            \n",
            "                                                                 \n",
            " bidirectional_5 (Bidirectio  (None, 64)               24832     \n",
            " nal)                                                            \n",
            "                                                                 \n",
            " dense_16 (Dense)            (None, 32)                2080      \n",
            "                                                                 \n",
            " dense_17 (Dense)            (None, 8)                 264       \n",
            "                                                                 \n",
            "=================================================================\n",
            "Total params: 61,747\n",
            "Trainable params: 61,736\n",
            "Non-trainable params: 11\n",
            "_________________________________________________________________\n"
          ]
        }
      ]
    },
    {
      "cell_type": "code",
      "source": [
        "history = model9.fit(X_train, y_train, validation_split=0.1, epochs=n_epochs, verbose=1, callbacks=[reduce_lr, es])"
      ],
      "metadata": {
        "id": "1uK4Vn_k03cL",
        "colab": {
          "base_uri": "https://localhost:8080/"
        },
        "outputId": "758de9e7-fe3f-4e2a-c38c-614743718be9"
      },
      "execution_count": null,
      "outputs": [
        {
          "output_type": "stream",
          "name": "stdout",
          "text": [
            "Epoch 1/100\n",
            "229/229 [==============================] - 20s 43ms/step - loss: 240711.2031 - mae: 352.2440 - val_loss: 97049.9062 - val_mae: 251.3832 - lr: 0.0010\n",
            "Epoch 2/100\n",
            "229/229 [==============================] - 7s 32ms/step - loss: 141318.9531 - mae: 267.3554 - val_loss: 33245.2930 - val_mae: 152.2612 - lr: 0.0010\n",
            "Epoch 3/100\n",
            "229/229 [==============================] - 7s 32ms/step - loss: 83625.4297 - mae: 187.6369 - val_loss: 20793.2910 - val_mae: 128.5652 - lr: 0.0010\n",
            "Epoch 4/100\n",
            "229/229 [==============================] - 7s 32ms/step - loss: 68037.7578 - mae: 179.2540 - val_loss: 13469.5527 - val_mae: 95.9754 - lr: 0.0010\n",
            "Epoch 5/100\n",
            "229/229 [==============================] - 7s 32ms/step - loss: 30903.3418 - mae: 98.6269 - val_loss: 10770.0479 - val_mae: 73.9170 - lr: 0.0010\n",
            "Epoch 6/100\n",
            "229/229 [==============================] - 8s 33ms/step - loss: 13424.8486 - mae: 58.0195 - val_loss: 8070.6777 - val_mae: 48.2659 - lr: 0.0010\n",
            "Epoch 7/100\n",
            "229/229 [==============================] - 7s 32ms/step - loss: 6234.7744 - mae: 33.5253 - val_loss: 5496.1167 - val_mae: 39.8355 - lr: 0.0010\n",
            "Epoch 8/100\n",
            "229/229 [==============================] - 7s 32ms/step - loss: 3038.9270 - mae: 22.8916 - val_loss: 2748.2954 - val_mae: 30.0778 - lr: 0.0010\n",
            "Epoch 9/100\n",
            "229/229 [==============================] - 7s 32ms/step - loss: 1727.9265 - mae: 16.8337 - val_loss: 2686.9844 - val_mae: 25.8519 - lr: 0.0010\n",
            "Epoch 10/100\n",
            "229/229 [==============================] - 7s 32ms/step - loss: 1269.5739 - mae: 13.6484 - val_loss: 1977.9856 - val_mae: 20.4452 - lr: 0.0010\n",
            "Epoch 11/100\n",
            "229/229 [==============================] - 7s 32ms/step - loss: 1138.6136 - mae: 12.6367 - val_loss: 2258.0706 - val_mae: 22.2370 - lr: 0.0010\n",
            "Epoch 12/100\n",
            "229/229 [==============================] - 7s 32ms/step - loss: 1033.7081 - mae: 11.4167 - val_loss: 2301.5156 - val_mae: 22.1119 - lr: 0.0010\n",
            "Epoch 13/100\n",
            "229/229 [==============================] - 7s 32ms/step - loss: 973.5869 - mae: 10.9845 - val_loss: 1916.2819 - val_mae: 19.7689 - lr: 0.0010\n",
            "Epoch 14/100\n",
            "229/229 [==============================] - 7s 32ms/step - loss: 921.4775 - mae: 10.3272 - val_loss: 1880.4960 - val_mae: 19.7959 - lr: 0.0010\n",
            "Epoch 15/100\n",
            "229/229 [==============================] - 7s 32ms/step - loss: 926.6700 - mae: 10.4673 - val_loss: 1956.8213 - val_mae: 19.3486 - lr: 0.0010\n",
            "Epoch 16/100\n",
            "229/229 [==============================] - 7s 32ms/step - loss: 839.3680 - mae: 9.4909 - val_loss: 1757.6990 - val_mae: 18.6775 - lr: 0.0010\n",
            "Epoch 17/100\n",
            "229/229 [==============================] - 7s 32ms/step - loss: 825.4761 - mae: 9.3124 - val_loss: 1990.6785 - val_mae: 21.5294 - lr: 0.0010\n",
            "Epoch 18/100\n",
            "229/229 [==============================] - 7s 32ms/step - loss: 775.9424 - mae: 8.8281 - val_loss: 1739.0336 - val_mae: 18.7477 - lr: 0.0010\n",
            "Epoch 19/100\n",
            "229/229 [==============================] - 7s 32ms/step - loss: 756.7278 - mae: 8.8162 - val_loss: 1907.8896 - val_mae: 21.1767 - lr: 0.0010\n",
            "Epoch 20/100\n",
            "229/229 [==============================] - 7s 32ms/step - loss: 752.4849 - mae: 8.7387 - val_loss: 2178.5864 - val_mae: 22.0902 - lr: 0.0010\n",
            "Epoch 21/100\n",
            "229/229 [==============================] - 7s 32ms/step - loss: 740.7635 - mae: 8.8342 - val_loss: 1766.7964 - val_mae: 18.9410 - lr: 0.0010\n",
            "Epoch 22/100\n",
            "229/229 [==============================] - 7s 32ms/step - loss: 748.3000 - mae: 9.1072 - val_loss: 2045.7700 - val_mae: 20.0240 - lr: 0.0010\n",
            "Epoch 23/100\n",
            "229/229 [==============================] - 7s 32ms/step - loss: 761.8214 - mae: 9.2445 - val_loss: 2494.2725 - val_mae: 22.7219 - lr: 0.0010\n",
            "Epoch 24/100\n",
            "229/229 [==============================] - 7s 32ms/step - loss: 709.5240 - mae: 7.9543 - val_loss: 2251.5837 - val_mae: 20.5531 - lr: 2.0000e-04\n",
            "Epoch 25/100\n",
            "229/229 [==============================] - 7s 32ms/step - loss: 643.5775 - mae: 7.2168 - val_loss: 2203.0894 - val_mae: 20.9126 - lr: 2.0000e-04\n",
            "Epoch 26/100\n",
            "229/229 [==============================] - 7s 32ms/step - loss: 630.1858 - mae: 7.2353 - val_loss: 2007.6492 - val_mae: 19.4471 - lr: 2.0000e-04\n",
            "Epoch 27/100\n",
            "229/229 [==============================] - 7s 32ms/step - loss: 620.4354 - mae: 6.9752 - val_loss: 2105.3594 - val_mae: 20.0828 - lr: 2.0000e-04\n",
            "Epoch 28/100\n",
            "229/229 [==============================] - 7s 32ms/step - loss: 612.5943 - mae: 6.9599 - val_loss: 2226.4292 - val_mae: 20.4021 - lr: 2.0000e-04\n",
            "Epoch 29/100\n",
            "229/229 [==============================] - 8s 33ms/step - loss: 594.5136 - mae: 6.5823 - val_loss: 2134.7478 - val_mae: 20.0681 - lr: 4.0000e-05\n",
            "Epoch 30/100\n",
            "229/229 [==============================] - 7s 32ms/step - loss: 588.9795 - mae: 6.5630 - val_loss: 2153.0317 - val_mae: 20.1004 - lr: 4.0000e-05\n",
            "Epoch 31/100\n",
            "229/229 [==============================] - 7s 32ms/step - loss: 586.8191 - mae: 6.5790 - val_loss: 2130.6206 - val_mae: 19.9583 - lr: 4.0000e-05\n",
            "Epoch 32/100\n",
            "229/229 [==============================] - 7s 32ms/step - loss: 584.2386 - mae: 6.5750 - val_loss: 2185.5869 - val_mae: 20.3347 - lr: 4.0000e-05\n",
            "Epoch 33/100\n",
            "229/229 [==============================] - 7s 32ms/step - loss: 581.5563 - mae: 6.6351 - val_loss: 2156.2478 - val_mae: 19.9757 - lr: 4.0000e-05\n"
          ]
        }
      ]
    },
    {
      "cell_type": "code",
      "source": [
        "plt.plot(history.history['loss'])\n",
        "plt.plot(history.history['val_loss'])\n",
        "plt.ylabel('MSE')\n",
        "plt.xlabel('Epoch')\n",
        "plt.legend(['train', 'validation'], loc='upper left')\n",
        "plt.show()\n",
        "\n",
        "plt.plot(history.history['mae'])\n",
        "plt.plot(history.history['val_mae'])\n",
        "plt.ylabel('MAE')\n",
        "plt.xlabel('Epoch')\n",
        "plt.legend(['train', 'validation'], loc='upper left')\n",
        "plt.show()"
      ],
      "metadata": {
        "id": "RhY1DgsO09jP",
        "colab": {
          "base_uri": "https://localhost:8080/",
          "height": 543
        },
        "outputId": "03c86c7d-17fc-4322-f2f2-ad274ed2bc0a"
      },
      "execution_count": null,
      "outputs": [
        {
          "output_type": "display_data",
          "data": {
            "text/plain": [
              "<Figure size 432x288 with 1 Axes>"
            ],
            "image/png": "[encoded data removed]"
          },
          "metadata": {
            "needs_background": "light"
          }
        },
        {
          "output_type": "display_data",
          "data": {
            "text/plain": [
              "<Figure size 432x288 with 1 Axes>"
            ],
            "image/png": "[encoded data removed]"
          },
          "metadata": {
            "needs_background": "light"
          }
        }
      ]
    }
  ]
}